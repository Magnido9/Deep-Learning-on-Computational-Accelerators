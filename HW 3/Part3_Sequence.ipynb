{
 "cells": [
  {
   "cell_type": "markdown",
   "metadata": {},
   "source": [
    "$$\n",
    "\\newcommand{\\mat}[1]{\\boldsymbol {#1}}\n",
    "\\newcommand{\\mattr}[1]{\\boldsymbol {#1}^\\top}\n",
    "\\newcommand{\\matinv}[1]{\\boldsymbol {#1}^{-1}}\n",
    "\\newcommand{\\vec}[1]{\\boldsymbol {#1}}\n",
    "\\newcommand{\\vectr}[1]{\\boldsymbol {#1}^\\top}\n",
    "\\newcommand{\\rvar}[1]{\\mathrm {#1}}\n",
    "\\newcommand{\\rvec}[1]{\\boldsymbol{\\mathrm{#1}}}\n",
    "\\newcommand{\\diag}{\\mathop{\\mathrm {diag}}}\n",
    "\\newcommand{\\set}[1]{\\mathbb {#1}}z\n",
    "\\newcommand{\\norm}[1]{\\left\\lVert#1\\right\\rVert}\n",
    "\\newcommand{\\pderiv}[2]{\\frac{\\partial #1}{\\partial #2}}\n",
    "\\newcommand{\\bb}[1]{\\boldsymbol{#1}}\n",
    "$$\n",
    "# Part 3: Sequence Models\n",
    "<a id=part3></a>"
   ]
  },
  {
   "cell_type": "markdown",
   "metadata": {},
   "source": [
    "In this part we will learn about working with text sequences using recurrent neural networks.\n",
    "We'll go from a raw text file all the way to a fully trained GRU-RNN model and generate works of art!"
   ]
  },
  {
   "cell_type": "code",
   "execution_count": 2,
   "metadata": {
    "execution": {
     "iopub.execute_input": "2021-12-26T20:27:16.027891Z",
     "iopub.status.busy": "2021-12-26T20:27:16.027174Z",
     "iopub.status.idle": "2021-12-26T20:27:19.093146Z",
     "shell.execute_reply": "2021-12-26T20:27:19.093523Z"
    }
   },
   "outputs": [],
   "source": [
    "import unittest\n",
    "import os\n",
    "import sys\n",
    "import pathlib\n",
    "import urllib\n",
    "import shutil\n",
    "import re\n",
    "\n",
    "import numpy as np\n",
    "import torch\n",
    "import matplotlib.pyplot as plt\n",
    "\n",
    "%load_ext autoreload\n",
    "%autoreload 2"
   ]
  },
  {
   "cell_type": "code",
   "execution_count": 3,
   "metadata": {
    "execution": {
     "iopub.execute_input": "2021-12-26T20:27:19.097462Z",
     "iopub.status.busy": "2021-12-26T20:27:19.096884Z",
     "iopub.status.idle": "2021-12-26T20:27:19.128874Z",
     "shell.execute_reply": "2021-12-26T20:27:19.129317Z"
    }
   },
   "outputs": [
    {
     "name": "stdout",
     "output_type": "stream",
     "text": [
      "Using device: cuda\n"
     ]
    }
   ],
   "source": [
    "test = unittest.TestCase()\n",
    "plt.rcParams.update({'font.size': 12})\n",
    "device = torch.device('cuda' if torch.cuda.is_available() else 'cpu')\n",
    "print('Using device:', device)"
   ]
  },
  {
   "cell_type": "markdown",
   "metadata": {},
   "source": [
    "## Text generation with a char-level RNN\n",
    "<a id=part3_1></a>"
   ]
  },
  {
   "cell_type": "markdown",
   "metadata": {},
   "source": [
    "### Obtaining the corpus\n",
    "<a id=part3_2></a>"
   ]
  },
  {
   "cell_type": "markdown",
   "metadata": {},
   "source": [
    "Let's begin by downloading a corpus containing all the works of William Shakespeare.\n",
    "Since he was very prolific, this corpus is fairly large and will provide us with enough data for\n",
    "obtaining impressive results."
   ]
  },
  {
   "cell_type": "code",
   "execution_count": 4,
   "metadata": {
    "execution": {
     "iopub.execute_input": "2021-12-26T20:27:19.134445Z",
     "iopub.status.busy": "2021-12-26T20:27:19.133865Z",
     "iopub.status.idle": "2021-12-26T20:27:19.176519Z",
     "shell.execute_reply": "2021-12-26T20:27:19.177075Z"
    }
   },
   "outputs": [
    {
     "name": "stdout",
     "output_type": "stream",
     "text": [
      "Corpus file C:\\Users\\idoma\\.pytorch-datasets\\shakespeare.txt exists, skipping download.\n"
     ]
    }
   ],
   "source": [
    "CORPUS_URL = 'https://github.com/cedricdeboom/character-level-rnn-datasets/raw/master/datasets/shakespeare.txt'\n",
    "DATA_DIR = pathlib.Path.home().joinpath('.pytorch-datasets')\n",
    "\n",
    "def download_corpus(out_path=DATA_DIR, url=CORPUS_URL, force=False):\n",
    "    pathlib.Path(out_path).mkdir(exist_ok=True)\n",
    "    out_filename = os.path.join(out_path, os.path.basename(url))\n",
    "    \n",
    "    if os.path.isfile(out_filename) and not force:\n",
    "        print(f'Corpus file {out_filename} exists, skipping download.')\n",
    "    else:\n",
    "        print(f'Downloading {url}...')\n",
    "        with urllib.request.urlopen(url) as response, open(out_filename, 'wb') as out_file:\n",
    "            shutil.copyfileobj(response, out_file)\n",
    "        print(f'Saved to {out_filename}.')\n",
    "    return out_filename\n",
    "    \n",
    "corpus_path = download_corpus()"
   ]
  },
  {
   "cell_type": "markdown",
   "metadata": {},
   "source": [
    "Load the text into memory and print a snippet:"
   ]
  },
  {
   "cell_type": "code",
   "execution_count": 5,
   "metadata": {
    "execution": {
     "iopub.execute_input": "2021-12-26T20:27:19.181838Z",
     "iopub.status.busy": "2021-12-26T20:27:19.181201Z",
     "iopub.status.idle": "2021-12-26T20:27:19.226523Z",
     "shell.execute_reply": "2021-12-26T20:27:19.227027Z"
    }
   },
   "outputs": [
    {
     "name": "stdout",
     "output_type": "stream",
     "text": [
      "Corpus length: 6347703 chars\n",
      "ALLS WELL THAT ENDS WELL\n",
      "\n",
      "by William Shakespeare\n",
      "\n",
      "Dramatis Personae\n",
      "\n",
      "  KING OF FRANCE\n",
      "  THE DUKE OF FLORENCE\n",
      "  BERTRAM, Count of Rousillon\n",
      "  LAFEU, an old lord\n",
      "  PAROLLES, a follower of Bertram\n",
      "  TWO FRENCH LORDS, serving with Bertram\n",
      "\n",
      "  STEWARD, Servant to the Countess of Rousillon\n",
      "  LAVACHE, a clown and Servant to the Countess of Rousillon\n",
      "  A PAGE, Servant to the Countess of Rousillon\n",
      "\n",
      "  COUNTESS OF ROUSILLON, mother to Bertram\n",
      "  HELENA, a gentlewoman protected by the Countess\n",
      "  A WIDOW OF FLORENCE.\n",
      "  DIANA, daughter to the Widow\n",
      "\n",
      "  VIOLENTA, neighbour and friend to the Widow\n",
      "  MARIANA, neighbour and friend to the Widow\n",
      "\n",
      "  Lords, Officers, Soldiers, etc., French and Florentine  \n",
      "\n",
      "SCENE:\n",
      "Rousillon; Paris; Florence; Marseilles\n",
      "\n",
      "ACT I. SCENE 1.\n",
      "Rousillon. The COUNT'S palace\n",
      "\n",
      "Enter BERTRAM, the COUNTESS OF ROUSILLON, HELENA, and LAFEU, all in black\n",
      "\n",
      "  COUNTESS. In delivering my son from me, I bury a second husband.\n",
      "  BERTRAM. And I in going, madam, weep o'er my father's death anew;\n",
      "    but I must attend his Majesty's command, to whom I am now in\n",
      "    ward, evermore in subjection.\n",
      "  LAFEU. You shall find of the King a husband, madam; you, sir, a\n",
      "    father. He that so generally is at all times good must of\n",
      "    \n"
     ]
    }
   ],
   "source": [
    "with open(corpus_path, 'r', encoding='utf-8') as f:\n",
    "    corpus = f.read()\n",
    "\n",
    "print(f'Corpus length: {len(corpus)} chars')\n",
    "print(corpus[7:1234])"
   ]
  },
  {
   "cell_type": "markdown",
   "metadata": {},
   "source": [
    "### Data Preprocessing\n",
    "<a id=part3_3></a>"
   ]
  },
  {
   "cell_type": "markdown",
   "metadata": {},
   "source": [
    "The first thing we'll need is to map from each unique character in the corpus to an index that will represent it in our learning process.\n",
    "\n",
    "**TODO**: Implement the `char_maps()` function in the `hw3/charnn.py` module."
   ]
  },
  {
   "cell_type": "code",
   "execution_count": 6,
   "metadata": {
    "execution": {
     "iopub.execute_input": "2021-12-26T20:27:19.231453Z",
     "iopub.status.busy": "2021-12-26T20:27:19.230921Z",
     "iopub.status.idle": "2021-12-26T20:27:19.338483Z",
     "shell.execute_reply": "2021-12-26T20:27:19.338013Z"
    }
   },
   "outputs": [
    {
     "name": "stdout",
     "output_type": "stream",
     "text": [
      "{'\\ufeff': 0, '1': 1, '6': 2, '0': 3, '3': 4, '\\n': 5, 'A': 6, 'L': 7, 'S': 8, ' ': 9, 'W': 10, 'E': 11, 'T': 12, 'H': 13, 'N': 14, 'D': 15, 'b': 16, 'y': 17, 'i': 18, 'l': 19, 'a': 20, 'm': 21, 'h': 22, 'k': 23, 'e': 24, 's': 25, 'p': 26, 'r': 27, 't': 28, 'P': 29, 'o': 30, 'n': 31, 'K': 32, 'I': 33, 'G': 34, 'O': 35, 'F': 36, 'R': 37, 'C': 38, 'U': 39, 'B': 40, 'M': 41, ',': 42, 'u': 43, 'f': 44, 'd': 45, 'w': 46, 'v': 47, 'g': 48, 'V': 49, 'c': 50, '.': 51, ':': 52, ';': 53, \"'\": 54, 'j': 55, 'Y': 56, '?': 57, '-': 58, '!': 59, 'x': 60, 'q': 61, '[': 62, ']': 63, 'z': 64, '2': 65, '\"': 66, 'Q': 67, 'J': 68, '4': 69, '5': 70, 'Z': 71, '7': 72, 'X': 73, '&': 74, '9': 75, '<': 76, '8': 77, '(': 78, ')': 79, '}': 80, '_': 81, '$': 82}\n"
     ]
    }
   ],
   "source": [
    "import hw3.charnn as charnn\n",
    "\n",
    "char_to_idx, idx_to_char = charnn.char_maps(corpus)\n",
    "print(char_to_idx)\n",
    "\n",
    "test.assertEqual(len(char_to_idx), len(idx_to_char))\n",
    "test.assertSequenceEqual(list(char_to_idx.keys()), list(idx_to_char.values()))\n",
    "test.assertSequenceEqual(list(char_to_idx.values()), list(idx_to_char.keys()))"
   ]
  },
  {
   "cell_type": "markdown",
   "metadata": {},
   "source": [
    "Seems we have some strange characters in the corpus that are very rare and are probably due to mistakes.\n",
    "To reduce the length of each tensor we'll need to later represent our chars, it's best to remove them.\n",
    "\n",
    "**TODO**: Implement the `remove_chars()` function in the `hw3/charnn.py` module."
   ]
  },
  {
   "cell_type": "code",
   "execution_count": 7,
   "metadata": {
    "execution": {
     "iopub.execute_input": "2021-12-26T20:27:19.342772Z",
     "iopub.status.busy": "2021-12-26T20:27:19.342244Z",
     "iopub.status.idle": "2021-12-26T20:27:19.484042Z",
     "shell.execute_reply": "2021-12-26T20:27:19.484410Z"
    }
   },
   "outputs": [
    {
     "name": "stdout",
     "output_type": "stream",
     "text": [
      "Removed 34 chars\n"
     ]
    }
   ],
   "source": [
    "corpus, n_removed = charnn.remove_chars(corpus, ['}','$','_','<','\\ufeff'])\n",
    "print(f'Removed {n_removed} chars')\n",
    "\n",
    "# After removing the chars, re-create the mappings\n",
    "char_to_idx, idx_to_char = charnn.char_maps(corpus)"
   ]
  },
  {
   "cell_type": "markdown",
   "metadata": {},
   "source": [
    "The next thing we need is an **embedding** of the chracters.\n",
    "An embedding is a representation of each token from the sequence as a tensor.\n",
    "For a char-level RNN, our tokens will be chars and we can thus use the simplest possible embedding: encode each char as a **one-hot** tensor. In other words, each char will be represented\n",
    "as a tensor whos length is the total number of unique chars (`V`) which contains all zeros except at the index\n",
    "corresponding to that specific char.\n",
    "\n",
    "**TODO**: Implement the functions `chars_to_onehot()` and `onehot_to_chars()` in the `hw3/charnn.py` module."
   ]
  },
  {
   "cell_type": "code",
   "execution_count": 8,
   "metadata": {
    "execution": {
     "iopub.execute_input": "2021-12-26T20:27:19.489440Z",
     "iopub.status.busy": "2021-12-26T20:27:19.488920Z",
     "iopub.status.idle": "2021-12-26T20:27:19.522807Z",
     "shell.execute_reply": "2021-12-26T20:27:19.523199Z"
    }
   },
   "outputs": [
    {
     "name": "stdout",
     "output_type": "stream",
     "text": [
      "brine a maiden can season her praise in.\n",
      "   \n",
      "tensor([[0, 0, 0, 0, 0, 0, 0, 0, 0, 0, 0, 0, 0, 0, 0, 1, 0, 0, 0, 0, 0, 0, 0, 0,\n",
      "         0, 0, 0, 0, 0, 0, 0, 0, 0, 0, 0, 0, 0, 0, 0, 0, 0, 0, 0, 0, 0, 0, 0, 0,\n",
      "         0, 0, 0, 0, 0, 0, 0, 0, 0, 0, 0, 0, 0, 0, 0, 0, 0, 0, 0, 0, 0, 0, 0, 0,\n",
      "         0, 0, 0, 0, 0, 0],\n",
      "        [0, 0, 0, 0, 0, 0, 0, 0, 0, 0, 0, 0, 0, 0, 0, 0, 0, 0, 0, 0, 0, 0, 0, 0,\n",
      "         0, 0, 1, 0, 0, 0, 0, 0, 0, 0, 0, 0, 0, 0, 0, 0, 0, 0, 0, 0, 0, 0, 0, 0,\n",
      "         0, 0, 0, 0, 0, 0, 0, 0, 0, 0, 0, 0, 0, 0, 0, 0, 0, 0, 0, 0, 0, 0, 0, 0,\n",
      "         0, 0, 0, 0, 0, 0],\n",
      "        [0, 0, 0, 0, 0, 0, 0, 0, 0, 0, 0, 0, 0, 0, 0, 0, 0, 1, 0, 0, 0, 0, 0, 0,\n",
      "         0, 0, 0, 0, 0, 0, 0, 0, 0, 0, 0, 0, 0, 0, 0, 0, 0, 0, 0, 0, 0, 0, 0, 0,\n",
      "         0, 0, 0, 0, 0, 0, 0, 0, 0, 0, 0, 0, 0, 0, 0, 0, 0, 0, 0, 0, 0, 0, 0, 0,\n",
      "         0, 0, 0, 0, 0, 0]], dtype=torch.int8)\n"
     ]
    }
   ],
   "source": [
    "# Wrap the actual embedding functions for calling convenience\n",
    "def embed(text):\n",
    "    return charnn.chars_to_onehot(text, char_to_idx)\n",
    "\n",
    "def unembed(embedding):\n",
    "    return charnn.onehot_to_chars(embedding, idx_to_char)\n",
    "\n",
    "text_snippet = corpus[3104:3148]\n",
    "print(text_snippet)\n",
    "print(embed(text_snippet[0:3]))\n",
    "\n",
    "test.assertEqual(text_snippet, unembed(embed(text_snippet)))\n",
    "test.assertEqual(embed(text_snippet).dtype, torch.int8)"
   ]
  },
  {
   "cell_type": "markdown",
   "metadata": {},
   "source": [
    "### Dataset Creation\n",
    "<a id=part3_4></a>"
   ]
  },
  {
   "cell_type": "markdown",
   "metadata": {},
   "source": [
    "We wish to train our model to generate text by constantly predicting what the next char should be based on the past.\n",
    "To that end we'll need to train our recurrent network in a way similar to a classification task. At each timestep, we input a char and set the expected output (label) to be the next char in the original sequence.\n",
    "\n",
    "We will split our corpus into shorter sequences of length `S` chars (see question below).\n",
    "Each **sample** we provide our model with will therefore be a tensor of shape `(S,V)` where `V` is the embedding dimension. Our model will operate sequentially on each char in the sequence.\n",
    "For each sample, we'll also need a **label**. This is simply another sequence, shifted by one char so that the label of each char is the next char in the corpus."
   ]
  },
  {
   "cell_type": "markdown",
   "metadata": {},
   "source": [
    "**TODO**: Implement the `chars_to_labelled_samples()` function in the `hw3/charnn.py` module."
   ]
  },
  {
   "cell_type": "code",
   "execution_count": 9,
   "metadata": {
    "execution": {
     "iopub.execute_input": "2021-12-26T20:27:19.528821Z",
     "iopub.status.busy": "2021-12-26T20:27:19.528269Z",
     "iopub.status.idle": "2021-12-26T20:27:22.169920Z",
     "shell.execute_reply": "2021-12-26T20:27:22.170334Z"
    }
   },
   "outputs": [
    {
     "name": "stdout",
     "output_type": "stream",
     "text": [
      "samples shape: torch.Size([99182, 64, 78])\n",
      "labels shape: torch.Size([99182, 64])\n"
     ]
    }
   ],
   "source": [
    "# Create dataset of sequences\n",
    "seq_len = 64\n",
    "vocab_len = len(char_to_idx)\n",
    "\n",
    "# Create labelled samples\n",
    "samples, labels = charnn.chars_to_labelled_samples(corpus, char_to_idx, seq_len, device)\n",
    "print(f'samples shape: {samples.shape}')\n",
    "print(f'labels shape: {labels.shape}')\n",
    "\n",
    "# Test shapes\n",
    "num_samples = (len(corpus) - 1) // seq_len\n",
    "test.assertEqual(samples.shape, (num_samples, seq_len, vocab_len))\n",
    "test.assertEqual(labels.shape, (num_samples, seq_len))\n",
    "\n",
    "# Test content\n",
    "for _ in range(1000):\n",
    "    # random sample\n",
    "    i = np.random.randint(num_samples, size=(1,))[0]\n",
    "    # Compare to corpus\n",
    "    test.assertEqual(unembed(samples[i]), corpus[i*seq_len:(i+1)*seq_len], msg=f\"content mismatch in sample {i}\")\n",
    "    # Compare to labels\n",
    "    sample_text = unembed(samples[i])\n",
    "    label_text = str.join('', [idx_to_char[j.item()] for j in labels[i]])\n",
    "    test.assertEqual(sample_text[1:], label_text[0:-1], msg=f\"label mismatch in sample {i}\")"
   ]
  },
  {
   "cell_type": "markdown",
   "metadata": {},
   "source": [
    "Let's print a few consecutive samples. You should see that the text continues between them."
   ]
  },
  {
   "cell_type": "code",
   "execution_count": 10,
   "metadata": {
    "execution": {
     "iopub.execute_input": "2021-12-26T20:27:22.174830Z",
     "iopub.status.busy": "2021-12-26T20:27:22.174272Z",
     "iopub.status.idle": "2021-12-26T20:27:22.220067Z",
     "shell.execute_reply": "2021-12-26T20:27:22.220698Z"
    }
   },
   "outputs": [
    {
     "name": "stdout",
     "output_type": "stream",
     "text": [
      "sample [25212]:\n",
      "\tstudy and my books be false, The argument you held was w\n",
      "sample [25213]:\n",
      "\trong in you; In sign whereof I pluck a white rose too. PLA\n",
      "sample [25214]:\n",
      "\tNTAGENET. Now, Somerset, where is your argument? SOMERSET. Her\n",
      "sample [25215]:\n",
      "\te in my scabbard, meditating that Shall dye your white rose\n",
      "sample [25216]:\n",
      "\tin a bloody red. PLANTAGENET. Meantime your cheeks do counterf\n"
     ]
    }
   ],
   "source": [
    "import re\n",
    "import random\n",
    "\n",
    "i = random.randrange(num_samples-5)\n",
    "for i in range(i, i+5):\n",
    "    test.assertEqual(len(samples[i]), seq_len)\n",
    "    s = re.sub(r'\\s+', ' ', unembed(samples[i])).strip()\n",
    "    print(f'sample [{i}]:\\n\\t{s}')"
   ]
  },
  {
   "cell_type": "markdown",
   "metadata": {},
   "source": [
    "As usual, instead of feeding one sample at a time into our model's forward we'll work with **batches** of samples. This means that at every timestep, our model will operate on a batch of chars that are from **different sequences**.\n",
    "Effectively this will allow us to parallelize training our model by dong matrix-matrix multiplications\n",
    "instead of matrix-vector during the forward pass."
   ]
  },
  {
   "cell_type": "markdown",
   "metadata": {},
   "source": [
    "An important nuance is that we need the batches to be **contiguous**, i.e. sample $k$ in batch $j$ should continue sample $k$ from batch $j-1$.\n",
    "The following figure illustrates this:\n",
    "\n",
    "<img src=\"imgs/rnn-batching.png\"/>\n",
    "\n",
    "If we naïvely take consecutive samples into batches, e.g. `[0,1,...,B-1]`, `[B,B+1,...,2B-1]` and so on, we won't have contiguous\n",
    "sequences at the same index between adjacent batches.\n",
    "\n",
    "To accomplish this we need to tell our `DataLoader` which samples to combine together into one batch.\n",
    "We do this by implementing a custom PyTorch `Sampler`, and providing it to our `DataLoader`."
   ]
  },
  {
   "cell_type": "markdown",
   "metadata": {},
   "source": [
    "**TODO**: Implement the `SequenceBatchSampler` class in the `hw3/charnn.py` module."
   ]
  },
  {
   "cell_type": "code",
   "execution_count": 11,
   "metadata": {
    "execution": {
     "iopub.execute_input": "2021-12-26T20:27:22.226174Z",
     "iopub.status.busy": "2021-12-26T20:27:22.225589Z",
     "iopub.status.idle": "2021-12-26T20:27:22.260907Z",
     "shell.execute_reply": "2021-12-26T20:27:22.261381Z"
    }
   },
   "outputs": [
    {
     "name": "stdout",
     "output_type": "stream",
     "text": [
      "sampler_idx =\n",
      " [0, 3, 6, 9, 12, 15, 18, 21, 24, 27, 1, 4, 7, 10, 13, 16, 19, 22, 25, 28, 2, 5, 8, 11, 14, 17, 20, 23, 26, 29]\n"
     ]
    }
   ],
   "source": [
    "from hw3.charnn import SequenceBatchSampler\n",
    "\n",
    "sampler = SequenceBatchSampler(dataset=range(32), batch_size=10)\n",
    "sampler_idx = list(sampler)\n",
    "print('sampler_idx =\\n', sampler_idx)\n",
    "\n",
    "# Test the Sampler\n",
    "test.assertEqual(len(sampler_idx), 30)\n",
    "batch_idx = np.array(sampler_idx).reshape(-1, 10)\n",
    "for k in range(10):\n",
    "    test.assertEqual(np.diff(batch_idx[:, k], n=2).item(), 0)"
   ]
  },
  {
   "cell_type": "markdown",
   "metadata": {},
   "source": [
    "Even though we're working with sequences, we can still use the standard PyTorch `Dataset`/`DataLoader` combo.\n",
    "For the dataset we can use a built-in class, `TensorDataset` to return tuples of `(sample, label)`\n",
    "from the `samples` and `labels` tensors we created above.\n",
    "The `DataLoader` will be provided with our custom `Sampler` so that it generates appropriate batches."
   ]
  },
  {
   "cell_type": "code",
   "execution_count": 12,
   "metadata": {
    "execution": {
     "iopub.execute_input": "2021-12-26T20:27:22.265219Z",
     "iopub.status.busy": "2021-12-26T20:27:22.264664Z",
     "iopub.status.idle": "2021-12-26T20:27:22.296919Z",
     "shell.execute_reply": "2021-12-26T20:27:22.297365Z"
    }
   },
   "outputs": [],
   "source": [
    "import torch.utils.data\n",
    "\n",
    "# Create DataLoader returning batches of samples.\n",
    "batch_size = 32\n",
    "\n",
    "ds_corpus = torch.utils.data.TensorDataset(samples, labels)\n",
    "sampler_corpus = SequenceBatchSampler(ds_corpus, batch_size)\n",
    "dl_corpus = torch.utils.data.DataLoader(ds_corpus, batch_size=batch_size, sampler=sampler_corpus, shuffle=False)"
   ]
  },
  {
   "cell_type": "markdown",
   "metadata": {},
   "source": [
    "Let's see what that gives us:"
   ]
  },
  {
   "cell_type": "code",
   "execution_count": 13,
   "metadata": {
    "execution": {
     "iopub.execute_input": "2021-12-26T20:27:22.300976Z",
     "iopub.status.busy": "2021-12-26T20:27:22.300435Z",
     "iopub.status.idle": "2021-12-26T20:27:22.333498Z",
     "shell.execute_reply": "2021-12-26T20:27:22.333971Z"
    }
   },
   "outputs": [
    {
     "name": "stdout",
     "output_type": "stream",
     "text": [
      "num batches: 3100\n",
      "shape of a batch of samples: torch.Size([32, 64, 78])\n",
      "shape of a batch of labels: torch.Size([32, 64])\n"
     ]
    }
   ],
   "source": [
    "print(f'num batches: {len(dl_corpus)}')\n",
    "\n",
    "x0, y0 = next(iter(dl_corpus))\n",
    "print(f'shape of a batch of samples: {x0.shape}')\n",
    "print(f'shape of a batch of labels: {y0.shape}')"
   ]
  },
  {
   "cell_type": "markdown",
   "metadata": {},
   "source": [
    "Now lets look at the same sample index from multiple batches taken from our corpus."
   ]
  },
  {
   "cell_type": "code",
   "execution_count": 14,
   "metadata": {
    "execution": {
     "iopub.execute_input": "2021-12-26T20:27:22.338020Z",
     "iopub.status.busy": "2021-12-26T20:27:22.337476Z",
     "iopub.status.idle": "2021-12-26T20:27:22.373121Z",
     "shell.execute_reply": "2021-12-26T20:27:22.373523Z"
    }
   },
   "outputs": [
    {
     "name": "stdout",
     "output_type": "stream",
     "text": [
      "=== batch 0, sample 15 (torch.Size([64, 78])): ===\n",
      "\td razure of oblivion. Give me your hand. And let the subject\n",
      "=== batch 1, sample 15 (torch.Size([64, 78])): ===\n",
      "\tsee, to make them know That outward courtesies would fain p\n",
      "=== batch 2, sample 15 (torch.Size([64, 78])): ===\n",
      "\troclaim Favours that keep within. Come, Escalus, You m\n",
      "=== batch 3, sample 15 (torch.Size([64, 78])): ===\n",
      "\tust walk by us on our other hand, And good supporters are yo\n",
      "=== batch 4, sample 15 (torch.Size([64, 78])): ===\n",
      "\tu. Enter FRIAR PETER and ISABELLA PETER. No\n"
     ]
    }
   ],
   "source": [
    "# Check that sentences in in same index of different batches complete each other.\n",
    "k = random.randrange(batch_size)\n",
    "for j, (X, y) in enumerate(dl_corpus,):\n",
    "    print(f'=== batch {j}, sample {k} ({X[k].shape}): ===')\n",
    "    s = re.sub(r'\\s+', ' ', unembed(X[k])).strip()\n",
    "    print(f'\\t{s}')\n",
    "    if j==4: break"
   ]
  },
  {
   "cell_type": "markdown",
   "metadata": {},
   "source": [
    "### Model Implementation\n",
    "<a id=part3_5></a>"
   ]
  },
  {
   "cell_type": "markdown",
   "metadata": {},
   "source": [
    "Finally, our data set is ready so we can focus on our model.\n",
    "\n",
    "We'll implement here is a multilayer gated recurrent unit (GRU) model, with dropout.\n",
    "This model is a type of RNN which performs similar to the well-known LSTM model,\n",
    "but it's somewhat easier to train because it has less parameters.\n",
    "We'll modify the regular GRU slightly by applying dropout to\n",
    "the hidden states passed between layers of the model.\n",
    "\n",
    "The model accepts an input $\\mat{X}\\in\\set{R}^{S\\times V}$ containing a sequence of embedded chars.\n",
    "It returns an output $\\mat{Y}\\in\\set{R}^{S\\times V}$ of predictions for the next char and the final hidden state\n",
    "$\\mat{H}\\in\\set{R}^{L\\times H}$. Here $S$ is the sequence length, $V$ is the vocabulary size (number of unique chars), $L$ is the number of layers in the model and $H$ is the hidden dimension."
   ]
  },
  {
   "cell_type": "markdown",
   "metadata": {},
   "source": [
    "Mathematically, the model's forward function at layer $k\\in[1,L]$ and timestep $t\\in[1,S]$ can be described as\n",
    "\n",
    "$$\n",
    "\\begin{align}\n",
    "\\vec{z_t}^{[k]} &= \\sigma\\left(\\vec{x}^{[k]}_t {\\mattr{W}_{\\mathrm{xz}}}^{[k]} +\n",
    "    \\vec{h}_{t-1}^{[k]} {\\mattr{W}_{\\mathrm{hz}}}^{[k]} + \\vec{b}_{\\mathrm{z}}^{[k]}\\right) \\\\\n",
    "\\vec{r_t}^{[k]} &= \\sigma\\left(\\vec{x}^{[k]}_t {\\mattr{W}_{\\mathrm{xr}}}^{[k]} +\n",
    "    \\vec{h}_{t-1}^{[k]} {\\mattr{W}_{\\mathrm{hr}}}^{[k]} + \\vec{b}_{\\mathrm{r}}^{[k]}\\right) \\\\\n",
    "\\vec{g_t}^{[k]} &= \\tanh\\left(\\vec{x}^{[k]}_t {\\mattr{W}_{\\mathrm{xg}}}^{[k]} +\n",
    "    (\\vec{r_t}^{[k]}\\odot\\vec{h}_{t-1}^{[k]}) {\\mattr{W}_{\\mathrm{hg}}}^{[k]} + \\vec{b}_{\\mathrm{g}}^{[k]}\\right) \\\\\n",
    "\\vec{h_t}^{[k]} &= \\vec{z}^{[k]}_t \\odot \\vec{h}^{[k]}_{t-1} + \\left(1-\\vec{z}^{[k]}_t\\right)\\odot \\vec{g_t}^{[k]}\n",
    "\\end{align}\n",
    "$$"
   ]
  },
  {
   "cell_type": "markdown",
   "metadata": {},
   "source": [
    "The input to each layer is,\n",
    "$$\n",
    "\\mat{X}^{[k]} =\n",
    "\\begin{bmatrix}\n",
    "    {\\vec{x}_1}^{[k]} \\\\ \\vdots \\\\ {\\vec{x}_S}^{[k]}\n",
    "\\end{bmatrix} \n",
    "=\n",
    "\\begin{cases}\n",
    "    \\mat{X} & \\mathrm{if} ~k = 1~ \\\\\n",
    "    \\mathrm{dropout}_p \\left(\n",
    "    \\begin{bmatrix}\n",
    "        {\\vec{h}_1}^{[k-1]} \\\\ \\vdots \\\\ {\\vec{h}_S}^{[k-1]}\n",
    "    \\end{bmatrix} \\right) & \\mathrm{if} ~1 < k \\leq L+1~\n",
    "\\end{cases}.\n",
    "$$"
   ]
  },
  {
   "cell_type": "markdown",
   "metadata": {},
   "source": [
    "The output of the entire model is then,\n",
    "$$\n",
    "\\mat{Y} = \\mat{X}^{[L+1]} {\\mattr{W}_{\\mathrm{hy}}} + \\mat{B}_{\\mathrm{y}}\n",
    "$$"
   ]
  },
  {
   "cell_type": "markdown",
   "metadata": {},
   "source": [
    "and the final hidden state is\n",
    "$$\n",
    "\\mat{H} = \n",
    "\\begin{bmatrix}\n",
    "    {\\vec{h}_S}^{[1]} \\\\ \\vdots \\\\ {\\vec{h}_S}^{[L]}\n",
    "\\end{bmatrix}.\n",
    "$$"
   ]
  },
  {
   "cell_type": "markdown",
   "metadata": {},
   "source": [
    "Notes:\n",
    "- $t\\in[1,S]$ is the timestep, i.e. the current position within the sequence of each sample.\n",
    "- $\\vec{x}_t^{[k]}$ is the input of layer $k$ at timestep $t$, respectively.\n",
    "- The outputs of the **last layer** $\\vec{y}_t^{[L]}$, are the predicted next characters for every input char.\n",
    "  These are similar to class scores in classification tasks.\n",
    "- The hidden states at the **last timestep**, $\\vec{h}_S^{[k]}$, are the final hidden state returned from the model.\n",
    "- $\\sigma(\\cdot)$ is the sigmoid function, i.e. $\\sigma(\\vec{z}) = 1/(1+e^{-\\vec{z}})$ which returns values in $(0,1)$.\n",
    "- $\\tanh(\\cdot)$ is the hyperbolic tangent, i.e. $\\tanh(\\vec{z}) = (e^{2\\vec{z}}-1)/(e^{2\\vec{z}}+1)$ which returns values in $(-1,1)$.\n",
    "- $\\vec{h_t}^{[k]}$ is the hidden state of layer $k$ at time $t$. This can be thought of as the memory of that layer.\n",
    "- $\\vec{g_t}^{[k]}$ is the candidate hidden state for time $t+1$.\n",
    "- $\\vec{z_t}^{[k]}$ is known as the update gate. It combines the previous state with the input to determine how much the current state will be combined with the new candidate state. For example, if $\\vec{z_t}^{[k]}=\\vec{1}$ then the current input has no effect on the output.\n",
    "- $\\vec{r_t}^{[k]}$ is known as the reset gate. It combines the previous state with the input to determine how much of the previous state will affect the current state candidate. For example if $\\vec{r_t}^{[k]}=\\vec{0}$ the previous state has no effect on the current candidate state."
   ]
  },
  {
   "cell_type": "markdown",
   "metadata": {},
   "source": [
    "Here's a graphical representation of the GRU's forward pass at each timestep. The $\\vec{\\tilde{h}}$ in the image is our $\\vec{g}$ (candidate next state).\n",
    "\n",
    "<img src=\"imgs/gru_cell.png\" width=\"400\"/>\n",
    "\n",
    "You can see how the reset and update gates allow the model to completely ignore it's previous state, completely ignore it's input, or any mixture of those states (since the gates are actually continuous and between $(0,1)$)."
   ]
  },
  {
   "cell_type": "markdown",
   "metadata": {},
   "source": [
    "Here's a graphical representation of the entire model.\n",
    "You can ignore the $c_t^{[k]}$ (cell state) variables (which are relevant for LSTM models).\n",
    "Our model has only the hidden state, $h_t^{[k]}$. Also notice that we added dropout between layers (i.e., on the up arrows).\n",
    "\n",
    "<img src=\"imgs/lstm_model.png\" />\n",
    "\n",
    "The purple tensors are inputs (a sequence and initial hidden state per layer), and the green tensors are outputs (another sequence and final hidden state per layer). Each blue block implements the above forward equations.\n",
    "Blocks that are on the same vertical level are at the same layer, and therefore share parameters."
   ]
  },
  {
   "cell_type": "markdown",
   "metadata": {},
   "source": [
    "**TODO**: Implement the `MultilayerGRU` class in the `hw3/charnn.py` module.\n",
    "\n",
    "Notes:\n",
    "- You'll need to handle input **batches** now.\n",
    "  The math is identical to the above, but all the tensors will have an extra batch\n",
    "  dimension as their first dimension.\n",
    "- Use the diagram above to help guide your implementation.\n",
    "  It will help you visualize what shapes to returns where, etc.\n"
   ]
  },
  {
   "cell_type": "code",
   "execution_count": 15,
   "metadata": {
    "execution": {
     "iopub.execute_input": "2021-12-26T20:27:22.378608Z",
     "iopub.status.busy": "2021-12-26T20:27:22.378041Z",
     "iopub.status.idle": "2021-12-26T20:27:22.555755Z",
     "shell.execute_reply": "2021-12-26T20:27:22.556140Z"
    }
   },
   "outputs": [
    {
     "name": "stdout",
     "output_type": "stream",
     "text": [
      "MultilayerGRU(\n",
      "  (xz0): Linear(in_features=78, out_features=256, bias=False)\n",
      "  (xr0): Linear(in_features=78, out_features=256, bias=True)\n",
      "  (xg0): Linear(in_features=78, out_features=256, bias=False)\n",
      "  (hz0): Linear(in_features=256, out_features=256, bias=True)\n",
      "  (hr0): Linear(in_features=256, out_features=256, bias=False)\n",
      "  (hg0): Linear(in_features=256, out_features=256, bias=True)\n",
      "  (d0): Dropout(p=0, inplace=False)\n",
      "  (xz1): Linear(in_features=256, out_features=256, bias=False)\n",
      "  (xr1): Linear(in_features=256, out_features=256, bias=True)\n",
      "  (xg1): Linear(in_features=256, out_features=256, bias=False)\n",
      "  (hz1): Linear(in_features=256, out_features=256, bias=True)\n",
      "  (hr1): Linear(in_features=256, out_features=256, bias=False)\n",
      "  (hg1): Linear(in_features=256, out_features=256, bias=True)\n",
      "  (d1): Dropout(p=0, inplace=False)\n",
      "  (xz2): Linear(in_features=256, out_features=256, bias=False)\n",
      "  (xr2): Linear(in_features=256, out_features=256, bias=True)\n",
      "  (xg2): Linear(in_features=256, out_features=256, bias=False)\n",
      "  (hz2): Linear(in_features=256, out_features=256, bias=True)\n",
      "  (hr2): Linear(in_features=256, out_features=256, bias=False)\n",
      "  (hg2): Linear(in_features=256, out_features=256, bias=True)\n",
      "  (d2): Dropout(p=0, inplace=False)\n",
      "  (out): Linear(in_features=256, out_features=78, bias=True)\n",
      ")\n",
      "(Linear(in_features=256, out_features=256, bias=False), Linear(in_features=256, out_features=256, bias=True), Linear(in_features=256, out_features=256, bias=False), Linear(in_features=256, out_features=256, bias=True), Linear(in_features=256, out_features=256, bias=False), Linear(in_features=256, out_features=256, bias=True), Dropout(p=0, inplace=False))\n",
      "(Linear(in_features=256, out_features=256, bias=False), Linear(in_features=256, out_features=256, bias=True), Linear(in_features=256, out_features=256, bias=False), Linear(in_features=256, out_features=256, bias=True), Linear(in_features=256, out_features=256, bias=False), Linear(in_features=256, out_features=256, bias=True), Dropout(p=0, inplace=False))\n",
      "(Linear(in_features=256, out_features=256, bias=False), Linear(in_features=256, out_features=256, bias=True), Linear(in_features=256, out_features=256, bias=False), Linear(in_features=256, out_features=256, bias=True), Linear(in_features=256, out_features=256, bias=False), Linear(in_features=256, out_features=256, bias=True), Dropout(p=0, inplace=False))\n",
      "(Linear(in_features=256, out_features=256, bias=False), Linear(in_features=256, out_features=256, bias=True), Linear(in_features=256, out_features=256, bias=False), Linear(in_features=256, out_features=256, bias=True), Linear(in_features=256, out_features=256, bias=False), Linear(in_features=256, out_features=256, bias=True), Dropout(p=0, inplace=False))\n",
      "(Linear(in_features=256, out_features=256, bias=False), Linear(in_features=256, out_features=256, bias=True), Linear(in_features=256, out_features=256, bias=False), Linear(in_features=256, out_features=256, bias=True), Linear(in_features=256, out_features=256, bias=False), Linear(in_features=256, out_features=256, bias=True), Dropout(p=0, inplace=False))\n",
      "(Linear(in_features=256, out_features=256, bias=False), Linear(in_features=256, out_features=256, bias=True), Linear(in_features=256, out_features=256, bias=False), Linear(in_features=256, out_features=256, bias=True), Linear(in_features=256, out_features=256, bias=False), Linear(in_features=256, out_features=256, bias=True), Dropout(p=0, inplace=False))\n",
      "(Linear(in_features=256, out_features=256, bias=False), Linear(in_features=256, out_features=256, bias=True), Linear(in_features=256, out_features=256, bias=False), Linear(in_features=256, out_features=256, bias=True), Linear(in_features=256, out_features=256, bias=False), Linear(in_features=256, out_features=256, bias=True), Dropout(p=0, inplace=False))\n",
      "(Linear(in_features=256, out_features=256, bias=False), Linear(in_features=256, out_features=256, bias=True), Linear(in_features=256, out_features=256, bias=False), Linear(in_features=256, out_features=256, bias=True), Linear(in_features=256, out_features=256, bias=False), Linear(in_features=256, out_features=256, bias=True), Dropout(p=0, inplace=False))\n",
      "(Linear(in_features=256, out_features=256, bias=False), Linear(in_features=256, out_features=256, bias=True), Linear(in_features=256, out_features=256, bias=False), Linear(in_features=256, out_features=256, bias=True), Linear(in_features=256, out_features=256, bias=False), Linear(in_features=256, out_features=256, bias=True), Dropout(p=0, inplace=False))\n",
      "(Linear(in_features=256, out_features=256, bias=False), Linear(in_features=256, out_features=256, bias=True), Linear(in_features=256, out_features=256, bias=False), Linear(in_features=256, out_features=256, bias=True), Linear(in_features=256, out_features=256, bias=False), Linear(in_features=256, out_features=256, bias=True), Dropout(p=0, inplace=False))\n",
      "(Linear(in_features=256, out_features=256, bias=False), Linear(in_features=256, out_features=256, bias=True), Linear(in_features=256, out_features=256, bias=False), Linear(in_features=256, out_features=256, bias=True), Linear(in_features=256, out_features=256, bias=False), Linear(in_features=256, out_features=256, bias=True), Dropout(p=0, inplace=False))\n",
      "(Linear(in_features=256, out_features=256, bias=False), Linear(in_features=256, out_features=256, bias=True), Linear(in_features=256, out_features=256, bias=False), Linear(in_features=256, out_features=256, bias=True), Linear(in_features=256, out_features=256, bias=False), Linear(in_features=256, out_features=256, bias=True), Dropout(p=0, inplace=False))\n",
      "(Linear(in_features=256, out_features=256, bias=False), Linear(in_features=256, out_features=256, bias=True), Linear(in_features=256, out_features=256, bias=False), Linear(in_features=256, out_features=256, bias=True), Linear(in_features=256, out_features=256, bias=False), Linear(in_features=256, out_features=256, bias=True), Dropout(p=0, inplace=False))\n",
      "(Linear(in_features=256, out_features=256, bias=False), Linear(in_features=256, out_features=256, bias=True), Linear(in_features=256, out_features=256, bias=False), Linear(in_features=256, out_features=256, bias=True), Linear(in_features=256, out_features=256, bias=False), Linear(in_features=256, out_features=256, bias=True), Dropout(p=0, inplace=False))\n",
      "(Linear(in_features=256, out_features=256, bias=False), Linear(in_features=256, out_features=256, bias=True), Linear(in_features=256, out_features=256, bias=False), Linear(in_features=256, out_features=256, bias=True), Linear(in_features=256, out_features=256, bias=False), Linear(in_features=256, out_features=256, bias=True), Dropout(p=0, inplace=False))\n",
      "(Linear(in_features=256, out_features=256, bias=False), Linear(in_features=256, out_features=256, bias=True), Linear(in_features=256, out_features=256, bias=False), Linear(in_features=256, out_features=256, bias=True), Linear(in_features=256, out_features=256, bias=False), Linear(in_features=256, out_features=256, bias=True), Dropout(p=0, inplace=False))\n",
      "(Linear(in_features=256, out_features=256, bias=False), Linear(in_features=256, out_features=256, bias=True), Linear(in_features=256, out_features=256, bias=False), Linear(in_features=256, out_features=256, bias=True), Linear(in_features=256, out_features=256, bias=False), Linear(in_features=256, out_features=256, bias=True), Dropout(p=0, inplace=False))\n",
      "(Linear(in_features=256, out_features=256, bias=False), Linear(in_features=256, out_features=256, bias=True), Linear(in_features=256, out_features=256, bias=False), Linear(in_features=256, out_features=256, bias=True), Linear(in_features=256, out_features=256, bias=False), Linear(in_features=256, out_features=256, bias=True), Dropout(p=0, inplace=False))\n",
      "(Linear(in_features=256, out_features=256, bias=False), Linear(in_features=256, out_features=256, bias=True), Linear(in_features=256, out_features=256, bias=False), Linear(in_features=256, out_features=256, bias=True), Linear(in_features=256, out_features=256, bias=False), Linear(in_features=256, out_features=256, bias=True), Dropout(p=0, inplace=False))\n",
      "(Linear(in_features=256, out_features=256, bias=False), Linear(in_features=256, out_features=256, bias=True), Linear(in_features=256, out_features=256, bias=False), Linear(in_features=256, out_features=256, bias=True), Linear(in_features=256, out_features=256, bias=False), Linear(in_features=256, out_features=256, bias=True), Dropout(p=0, inplace=False))\n",
      "(Linear(in_features=256, out_features=256, bias=False), Linear(in_features=256, out_features=256, bias=True), Linear(in_features=256, out_features=256, bias=False), Linear(in_features=256, out_features=256, bias=True), Linear(in_features=256, out_features=256, bias=False), Linear(in_features=256, out_features=256, bias=True), Dropout(p=0, inplace=False))\n",
      "(Linear(in_features=256, out_features=256, bias=False), Linear(in_features=256, out_features=256, bias=True), Linear(in_features=256, out_features=256, bias=False), Linear(in_features=256, out_features=256, bias=True), Linear(in_features=256, out_features=256, bias=False), Linear(in_features=256, out_features=256, bias=True), Dropout(p=0, inplace=False))\n",
      "(Linear(in_features=256, out_features=256, bias=False), Linear(in_features=256, out_features=256, bias=True), Linear(in_features=256, out_features=256, bias=False), Linear(in_features=256, out_features=256, bias=True), Linear(in_features=256, out_features=256, bias=False), Linear(in_features=256, out_features=256, bias=True), Dropout(p=0, inplace=False))\n",
      "(Linear(in_features=256, out_features=256, bias=False), Linear(in_features=256, out_features=256, bias=True), Linear(in_features=256, out_features=256, bias=False), Linear(in_features=256, out_features=256, bias=True), Linear(in_features=256, out_features=256, bias=False), Linear(in_features=256, out_features=256, bias=True), Dropout(p=0, inplace=False))\n",
      "(Linear(in_features=256, out_features=256, bias=False), Linear(in_features=256, out_features=256, bias=True), Linear(in_features=256, out_features=256, bias=False), Linear(in_features=256, out_features=256, bias=True), Linear(in_features=256, out_features=256, bias=False), Linear(in_features=256, out_features=256, bias=True), Dropout(p=0, inplace=False))\n",
      "(Linear(in_features=256, out_features=256, bias=False), Linear(in_features=256, out_features=256, bias=True), Linear(in_features=256, out_features=256, bias=False), Linear(in_features=256, out_features=256, bias=True), Linear(in_features=256, out_features=256, bias=False), Linear(in_features=256, out_features=256, bias=True), Dropout(p=0, inplace=False))\n",
      "(Linear(in_features=256, out_features=256, bias=False), Linear(in_features=256, out_features=256, bias=True), Linear(in_features=256, out_features=256, bias=False), Linear(in_features=256, out_features=256, bias=True), Linear(in_features=256, out_features=256, bias=False), Linear(in_features=256, out_features=256, bias=True), Dropout(p=0, inplace=False))\n",
      "(Linear(in_features=256, out_features=256, bias=False), Linear(in_features=256, out_features=256, bias=True), Linear(in_features=256, out_features=256, bias=False), Linear(in_features=256, out_features=256, bias=True), Linear(in_features=256, out_features=256, bias=False), Linear(in_features=256, out_features=256, bias=True), Dropout(p=0, inplace=False))\n",
      "(Linear(in_features=256, out_features=256, bias=False), Linear(in_features=256, out_features=256, bias=True), Linear(in_features=256, out_features=256, bias=False), Linear(in_features=256, out_features=256, bias=True), Linear(in_features=256, out_features=256, bias=False), Linear(in_features=256, out_features=256, bias=True), Dropout(p=0, inplace=False))\n",
      "(Linear(in_features=256, out_features=256, bias=False), Linear(in_features=256, out_features=256, bias=True), Linear(in_features=256, out_features=256, bias=False), Linear(in_features=256, out_features=256, bias=True), Linear(in_features=256, out_features=256, bias=False), Linear(in_features=256, out_features=256, bias=True), Dropout(p=0, inplace=False))\n",
      "(Linear(in_features=256, out_features=256, bias=False), Linear(in_features=256, out_features=256, bias=True), Linear(in_features=256, out_features=256, bias=False), Linear(in_features=256, out_features=256, bias=True), Linear(in_features=256, out_features=256, bias=False), Linear(in_features=256, out_features=256, bias=True), Dropout(p=0, inplace=False))\n",
      "(Linear(in_features=256, out_features=256, bias=False), Linear(in_features=256, out_features=256, bias=True), Linear(in_features=256, out_features=256, bias=False), Linear(in_features=256, out_features=256, bias=True), Linear(in_features=256, out_features=256, bias=False), Linear(in_features=256, out_features=256, bias=True), Dropout(p=0, inplace=False))\n",
      "(Linear(in_features=256, out_features=256, bias=False), Linear(in_features=256, out_features=256, bias=True), Linear(in_features=256, out_features=256, bias=False), Linear(in_features=256, out_features=256, bias=True), Linear(in_features=256, out_features=256, bias=False), Linear(in_features=256, out_features=256, bias=True), Dropout(p=0, inplace=False))\n",
      "(Linear(in_features=256, out_features=256, bias=False), Linear(in_features=256, out_features=256, bias=True), Linear(in_features=256, out_features=256, bias=False), Linear(in_features=256, out_features=256, bias=True), Linear(in_features=256, out_features=256, bias=False), Linear(in_features=256, out_features=256, bias=True), Dropout(p=0, inplace=False))\n",
      "(Linear(in_features=256, out_features=256, bias=False), Linear(in_features=256, out_features=256, bias=True), Linear(in_features=256, out_features=256, bias=False), Linear(in_features=256, out_features=256, bias=True), Linear(in_features=256, out_features=256, bias=False), Linear(in_features=256, out_features=256, bias=True), Dropout(p=0, inplace=False))\n",
      "(Linear(in_features=256, out_features=256, bias=False), Linear(in_features=256, out_features=256, bias=True), Linear(in_features=256, out_features=256, bias=False), Linear(in_features=256, out_features=256, bias=True), Linear(in_features=256, out_features=256, bias=False), Linear(in_features=256, out_features=256, bias=True), Dropout(p=0, inplace=False))\n",
      "(Linear(in_features=256, out_features=256, bias=False), Linear(in_features=256, out_features=256, bias=True), Linear(in_features=256, out_features=256, bias=False), Linear(in_features=256, out_features=256, bias=True), Linear(in_features=256, out_features=256, bias=False), Linear(in_features=256, out_features=256, bias=True), Dropout(p=0, inplace=False))\n",
      "(Linear(in_features=256, out_features=256, bias=False), Linear(in_features=256, out_features=256, bias=True), Linear(in_features=256, out_features=256, bias=False), Linear(in_features=256, out_features=256, bias=True), Linear(in_features=256, out_features=256, bias=False), Linear(in_features=256, out_features=256, bias=True), Dropout(p=0, inplace=False))\n",
      "(Linear(in_features=256, out_features=256, bias=False), Linear(in_features=256, out_features=256, bias=True), Linear(in_features=256, out_features=256, bias=False), Linear(in_features=256, out_features=256, bias=True), Linear(in_features=256, out_features=256, bias=False), Linear(in_features=256, out_features=256, bias=True), Dropout(p=0, inplace=False))\n",
      "(Linear(in_features=256, out_features=256, bias=False), Linear(in_features=256, out_features=256, bias=True), Linear(in_features=256, out_features=256, bias=False), Linear(in_features=256, out_features=256, bias=True), Linear(in_features=256, out_features=256, bias=False), Linear(in_features=256, out_features=256, bias=True), Dropout(p=0, inplace=False))\n",
      "(Linear(in_features=256, out_features=256, bias=False), Linear(in_features=256, out_features=256, bias=True), Linear(in_features=256, out_features=256, bias=False), Linear(in_features=256, out_features=256, bias=True), Linear(in_features=256, out_features=256, bias=False), Linear(in_features=256, out_features=256, bias=True), Dropout(p=0, inplace=False))\n",
      "(Linear(in_features=256, out_features=256, bias=False), Linear(in_features=256, out_features=256, bias=True), Linear(in_features=256, out_features=256, bias=False), Linear(in_features=256, out_features=256, bias=True), Linear(in_features=256, out_features=256, bias=False), Linear(in_features=256, out_features=256, bias=True), Dropout(p=0, inplace=False))\n",
      "(Linear(in_features=256, out_features=256, bias=False), Linear(in_features=256, out_features=256, bias=True), Linear(in_features=256, out_features=256, bias=False), Linear(in_features=256, out_features=256, bias=True), Linear(in_features=256, out_features=256, bias=False), Linear(in_features=256, out_features=256, bias=True), Dropout(p=0, inplace=False))\n",
      "(Linear(in_features=256, out_features=256, bias=False), Linear(in_features=256, out_features=256, bias=True), Linear(in_features=256, out_features=256, bias=False), Linear(in_features=256, out_features=256, bias=True), Linear(in_features=256, out_features=256, bias=False), Linear(in_features=256, out_features=256, bias=True), Dropout(p=0, inplace=False))\n",
      "(Linear(in_features=256, out_features=256, bias=False), Linear(in_features=256, out_features=256, bias=True), Linear(in_features=256, out_features=256, bias=False), Linear(in_features=256, out_features=256, bias=True), Linear(in_features=256, out_features=256, bias=False), Linear(in_features=256, out_features=256, bias=True), Dropout(p=0, inplace=False))\n",
      "(Linear(in_features=256, out_features=256, bias=False), Linear(in_features=256, out_features=256, bias=True), Linear(in_features=256, out_features=256, bias=False), Linear(in_features=256, out_features=256, bias=True), Linear(in_features=256, out_features=256, bias=False), Linear(in_features=256, out_features=256, bias=True), Dropout(p=0, inplace=False))\n",
      "(Linear(in_features=256, out_features=256, bias=False), Linear(in_features=256, out_features=256, bias=True), Linear(in_features=256, out_features=256, bias=False), Linear(in_features=256, out_features=256, bias=True), Linear(in_features=256, out_features=256, bias=False), Linear(in_features=256, out_features=256, bias=True), Dropout(p=0, inplace=False))\n",
      "(Linear(in_features=256, out_features=256, bias=False), Linear(in_features=256, out_features=256, bias=True), Linear(in_features=256, out_features=256, bias=False), Linear(in_features=256, out_features=256, bias=True), Linear(in_features=256, out_features=256, bias=False), Linear(in_features=256, out_features=256, bias=True), Dropout(p=0, inplace=False))\n",
      "(Linear(in_features=256, out_features=256, bias=False), Linear(in_features=256, out_features=256, bias=True), Linear(in_features=256, out_features=256, bias=False), Linear(in_features=256, out_features=256, bias=True), Linear(in_features=256, out_features=256, bias=False), Linear(in_features=256, out_features=256, bias=True), Dropout(p=0, inplace=False))\n",
      "(Linear(in_features=256, out_features=256, bias=False), Linear(in_features=256, out_features=256, bias=True), Linear(in_features=256, out_features=256, bias=False), Linear(in_features=256, out_features=256, bias=True), Linear(in_features=256, out_features=256, bias=False), Linear(in_features=256, out_features=256, bias=True), Dropout(p=0, inplace=False))\n",
      "(Linear(in_features=256, out_features=256, bias=False), Linear(in_features=256, out_features=256, bias=True), Linear(in_features=256, out_features=256, bias=False), Linear(in_features=256, out_features=256, bias=True), Linear(in_features=256, out_features=256, bias=False), Linear(in_features=256, out_features=256, bias=True), Dropout(p=0, inplace=False))\n",
      "(Linear(in_features=256, out_features=256, bias=False), Linear(in_features=256, out_features=256, bias=True), Linear(in_features=256, out_features=256, bias=False), Linear(in_features=256, out_features=256, bias=True), Linear(in_features=256, out_features=256, bias=False), Linear(in_features=256, out_features=256, bias=True), Dropout(p=0, inplace=False))\n",
      "(Linear(in_features=256, out_features=256, bias=False), Linear(in_features=256, out_features=256, bias=True), Linear(in_features=256, out_features=256, bias=False), Linear(in_features=256, out_features=256, bias=True), Linear(in_features=256, out_features=256, bias=False), Linear(in_features=256, out_features=256, bias=True), Dropout(p=0, inplace=False))\n",
      "(Linear(in_features=256, out_features=256, bias=False), Linear(in_features=256, out_features=256, bias=True), Linear(in_features=256, out_features=256, bias=False), Linear(in_features=256, out_features=256, bias=True), Linear(in_features=256, out_features=256, bias=False), Linear(in_features=256, out_features=256, bias=True), Dropout(p=0, inplace=False))\n",
      "(Linear(in_features=256, out_features=256, bias=False), Linear(in_features=256, out_features=256, bias=True), Linear(in_features=256, out_features=256, bias=False), Linear(in_features=256, out_features=256, bias=True), Linear(in_features=256, out_features=256, bias=False), Linear(in_features=256, out_features=256, bias=True), Dropout(p=0, inplace=False))\n",
      "(Linear(in_features=256, out_features=256, bias=False), Linear(in_features=256, out_features=256, bias=True), Linear(in_features=256, out_features=256, bias=False), Linear(in_features=256, out_features=256, bias=True), Linear(in_features=256, out_features=256, bias=False), Linear(in_features=256, out_features=256, bias=True), Dropout(p=0, inplace=False))\n",
      "(Linear(in_features=256, out_features=256, bias=False), Linear(in_features=256, out_features=256, bias=True), Linear(in_features=256, out_features=256, bias=False), Linear(in_features=256, out_features=256, bias=True), Linear(in_features=256, out_features=256, bias=False), Linear(in_features=256, out_features=256, bias=True), Dropout(p=0, inplace=False))\n",
      "(Linear(in_features=256, out_features=256, bias=False), Linear(in_features=256, out_features=256, bias=True), Linear(in_features=256, out_features=256, bias=False), Linear(in_features=256, out_features=256, bias=True), Linear(in_features=256, out_features=256, bias=False), Linear(in_features=256, out_features=256, bias=True), Dropout(p=0, inplace=False))\n",
      "(Linear(in_features=256, out_features=256, bias=False), Linear(in_features=256, out_features=256, bias=True), Linear(in_features=256, out_features=256, bias=False), Linear(in_features=256, out_features=256, bias=True), Linear(in_features=256, out_features=256, bias=False), Linear(in_features=256, out_features=256, bias=True), Dropout(p=0, inplace=False))\n",
      "(Linear(in_features=256, out_features=256, bias=False), Linear(in_features=256, out_features=256, bias=True), Linear(in_features=256, out_features=256, bias=False), Linear(in_features=256, out_features=256, bias=True), Linear(in_features=256, out_features=256, bias=False), Linear(in_features=256, out_features=256, bias=True), Dropout(p=0, inplace=False))\n",
      "(Linear(in_features=256, out_features=256, bias=False), Linear(in_features=256, out_features=256, bias=True), Linear(in_features=256, out_features=256, bias=False), Linear(in_features=256, out_features=256, bias=True), Linear(in_features=256, out_features=256, bias=False), Linear(in_features=256, out_features=256, bias=True), Dropout(p=0, inplace=False))\n",
      "(Linear(in_features=256, out_features=256, bias=False), Linear(in_features=256, out_features=256, bias=True), Linear(in_features=256, out_features=256, bias=False), Linear(in_features=256, out_features=256, bias=True), Linear(in_features=256, out_features=256, bias=False), Linear(in_features=256, out_features=256, bias=True), Dropout(p=0, inplace=False))\n",
      "(Linear(in_features=256, out_features=256, bias=False), Linear(in_features=256, out_features=256, bias=True), Linear(in_features=256, out_features=256, bias=False), Linear(in_features=256, out_features=256, bias=True), Linear(in_features=256, out_features=256, bias=False), Linear(in_features=256, out_features=256, bias=True), Dropout(p=0, inplace=False))\n",
      "(Linear(in_features=256, out_features=256, bias=False), Linear(in_features=256, out_features=256, bias=True), Linear(in_features=256, out_features=256, bias=False), Linear(in_features=256, out_features=256, bias=True), Linear(in_features=256, out_features=256, bias=False), Linear(in_features=256, out_features=256, bias=True), Dropout(p=0, inplace=False))\n",
      "(Linear(in_features=256, out_features=256, bias=False), Linear(in_features=256, out_features=256, bias=True), Linear(in_features=256, out_features=256, bias=False), Linear(in_features=256, out_features=256, bias=True), Linear(in_features=256, out_features=256, bias=False), Linear(in_features=256, out_features=256, bias=True), Dropout(p=0, inplace=False))\n",
      "(Linear(in_features=256, out_features=256, bias=False), Linear(in_features=256, out_features=256, bias=True), Linear(in_features=256, out_features=256, bias=False), Linear(in_features=256, out_features=256, bias=True), Linear(in_features=256, out_features=256, bias=False), Linear(in_features=256, out_features=256, bias=True), Dropout(p=0, inplace=False))\n",
      "(Linear(in_features=256, out_features=256, bias=False), Linear(in_features=256, out_features=256, bias=True), Linear(in_features=256, out_features=256, bias=False), Linear(in_features=256, out_features=256, bias=True), Linear(in_features=256, out_features=256, bias=False), Linear(in_features=256, out_features=256, bias=True), Dropout(p=0, inplace=False))\n",
      "(Linear(in_features=256, out_features=256, bias=False), Linear(in_features=256, out_features=256, bias=True), Linear(in_features=256, out_features=256, bias=False), Linear(in_features=256, out_features=256, bias=True), Linear(in_features=256, out_features=256, bias=False), Linear(in_features=256, out_features=256, bias=True), Dropout(p=0, inplace=False))\n",
      "(Linear(in_features=256, out_features=256, bias=False), Linear(in_features=256, out_features=256, bias=True), Linear(in_features=256, out_features=256, bias=False), Linear(in_features=256, out_features=256, bias=True), Linear(in_features=256, out_features=256, bias=False), Linear(in_features=256, out_features=256, bias=True), Dropout(p=0, inplace=False))\n",
      "(Linear(in_features=256, out_features=256, bias=False), Linear(in_features=256, out_features=256, bias=True), Linear(in_features=256, out_features=256, bias=False), Linear(in_features=256, out_features=256, bias=True), Linear(in_features=256, out_features=256, bias=False), Linear(in_features=256, out_features=256, bias=True), Dropout(p=0, inplace=False))\n",
      "(Linear(in_features=256, out_features=256, bias=False), Linear(in_features=256, out_features=256, bias=True), Linear(in_features=256, out_features=256, bias=False), Linear(in_features=256, out_features=256, bias=True), Linear(in_features=256, out_features=256, bias=False), Linear(in_features=256, out_features=256, bias=True), Dropout(p=0, inplace=False))\n",
      "(Linear(in_features=256, out_features=256, bias=False), Linear(in_features=256, out_features=256, bias=True), Linear(in_features=256, out_features=256, bias=False), Linear(in_features=256, out_features=256, bias=True), Linear(in_features=256, out_features=256, bias=False), Linear(in_features=256, out_features=256, bias=True), Dropout(p=0, inplace=False))\n",
      "(Linear(in_features=256, out_features=256, bias=False), Linear(in_features=256, out_features=256, bias=True), Linear(in_features=256, out_features=256, bias=False), Linear(in_features=256, out_features=256, bias=True), Linear(in_features=256, out_features=256, bias=False), Linear(in_features=256, out_features=256, bias=True), Dropout(p=0, inplace=False))\n",
      "(Linear(in_features=256, out_features=256, bias=False), Linear(in_features=256, out_features=256, bias=True), Linear(in_features=256, out_features=256, bias=False), Linear(in_features=256, out_features=256, bias=True), Linear(in_features=256, out_features=256, bias=False), Linear(in_features=256, out_features=256, bias=True), Dropout(p=0, inplace=False))\n",
      "(Linear(in_features=256, out_features=256, bias=False), Linear(in_features=256, out_features=256, bias=True), Linear(in_features=256, out_features=256, bias=False), Linear(in_features=256, out_features=256, bias=True), Linear(in_features=256, out_features=256, bias=False), Linear(in_features=256, out_features=256, bias=True), Dropout(p=0, inplace=False))\n",
      "(Linear(in_features=256, out_features=256, bias=False), Linear(in_features=256, out_features=256, bias=True), Linear(in_features=256, out_features=256, bias=False), Linear(in_features=256, out_features=256, bias=True), Linear(in_features=256, out_features=256, bias=False), Linear(in_features=256, out_features=256, bias=True), Dropout(p=0, inplace=False))\n",
      "(Linear(in_features=256, out_features=256, bias=False), Linear(in_features=256, out_features=256, bias=True), Linear(in_features=256, out_features=256, bias=False), Linear(in_features=256, out_features=256, bias=True), Linear(in_features=256, out_features=256, bias=False), Linear(in_features=256, out_features=256, bias=True), Dropout(p=0, inplace=False))\n",
      "(Linear(in_features=256, out_features=256, bias=False), Linear(in_features=256, out_features=256, bias=True), Linear(in_features=256, out_features=256, bias=False), Linear(in_features=256, out_features=256, bias=True), Linear(in_features=256, out_features=256, bias=False), Linear(in_features=256, out_features=256, bias=True), Dropout(p=0, inplace=False))\n",
      "(Linear(in_features=256, out_features=256, bias=False), Linear(in_features=256, out_features=256, bias=True), Linear(in_features=256, out_features=256, bias=False), Linear(in_features=256, out_features=256, bias=True), Linear(in_features=256, out_features=256, bias=False), Linear(in_features=256, out_features=256, bias=True), Dropout(p=0, inplace=False))\n",
      "(Linear(in_features=256, out_features=256, bias=False), Linear(in_features=256, out_features=256, bias=True), Linear(in_features=256, out_features=256, bias=False), Linear(in_features=256, out_features=256, bias=True), Linear(in_features=256, out_features=256, bias=False), Linear(in_features=256, out_features=256, bias=True), Dropout(p=0, inplace=False))\n",
      "(Linear(in_features=256, out_features=256, bias=False), Linear(in_features=256, out_features=256, bias=True), Linear(in_features=256, out_features=256, bias=False), Linear(in_features=256, out_features=256, bias=True), Linear(in_features=256, out_features=256, bias=False), Linear(in_features=256, out_features=256, bias=True), Dropout(p=0, inplace=False))\n",
      "(Linear(in_features=256, out_features=256, bias=False), Linear(in_features=256, out_features=256, bias=True), Linear(in_features=256, out_features=256, bias=False), Linear(in_features=256, out_features=256, bias=True), Linear(in_features=256, out_features=256, bias=False), Linear(in_features=256, out_features=256, bias=True), Dropout(p=0, inplace=False))\n",
      "(Linear(in_features=256, out_features=256, bias=False), Linear(in_features=256, out_features=256, bias=True), Linear(in_features=256, out_features=256, bias=False), Linear(in_features=256, out_features=256, bias=True), Linear(in_features=256, out_features=256, bias=False), Linear(in_features=256, out_features=256, bias=True), Dropout(p=0, inplace=False))\n",
      "(Linear(in_features=256, out_features=256, bias=False), Linear(in_features=256, out_features=256, bias=True), Linear(in_features=256, out_features=256, bias=False), Linear(in_features=256, out_features=256, bias=True), Linear(in_features=256, out_features=256, bias=False), Linear(in_features=256, out_features=256, bias=True), Dropout(p=0, inplace=False))\n",
      "(Linear(in_features=256, out_features=256, bias=False), Linear(in_features=256, out_features=256, bias=True), Linear(in_features=256, out_features=256, bias=False), Linear(in_features=256, out_features=256, bias=True), Linear(in_features=256, out_features=256, bias=False), Linear(in_features=256, out_features=256, bias=True), Dropout(p=0, inplace=False))\n",
      "(Linear(in_features=256, out_features=256, bias=False), Linear(in_features=256, out_features=256, bias=True), Linear(in_features=256, out_features=256, bias=False), Linear(in_features=256, out_features=256, bias=True), Linear(in_features=256, out_features=256, bias=False), Linear(in_features=256, out_features=256, bias=True), Dropout(p=0, inplace=False))\n",
      "(Linear(in_features=256, out_features=256, bias=False), Linear(in_features=256, out_features=256, bias=True), Linear(in_features=256, out_features=256, bias=False), Linear(in_features=256, out_features=256, bias=True), Linear(in_features=256, out_features=256, bias=False), Linear(in_features=256, out_features=256, bias=True), Dropout(p=0, inplace=False))\n",
      "(Linear(in_features=256, out_features=256, bias=False), Linear(in_features=256, out_features=256, bias=True), Linear(in_features=256, out_features=256, bias=False), Linear(in_features=256, out_features=256, bias=True), Linear(in_features=256, out_features=256, bias=False), Linear(in_features=256, out_features=256, bias=True), Dropout(p=0, inplace=False))\n",
      "(Linear(in_features=256, out_features=256, bias=False), Linear(in_features=256, out_features=256, bias=True), Linear(in_features=256, out_features=256, bias=False), Linear(in_features=256, out_features=256, bias=True), Linear(in_features=256, out_features=256, bias=False), Linear(in_features=256, out_features=256, bias=True), Dropout(p=0, inplace=False))\n",
      "(Linear(in_features=256, out_features=256, bias=False), Linear(in_features=256, out_features=256, bias=True), Linear(in_features=256, out_features=256, bias=False), Linear(in_features=256, out_features=256, bias=True), Linear(in_features=256, out_features=256, bias=False), Linear(in_features=256, out_features=256, bias=True), Dropout(p=0, inplace=False))\n",
      "(Linear(in_features=256, out_features=256, bias=False), Linear(in_features=256, out_features=256, bias=True), Linear(in_features=256, out_features=256, bias=False), Linear(in_features=256, out_features=256, bias=True), Linear(in_features=256, out_features=256, bias=False), Linear(in_features=256, out_features=256, bias=True), Dropout(p=0, inplace=False))\n",
      "(Linear(in_features=256, out_features=256, bias=False), Linear(in_features=256, out_features=256, bias=True), Linear(in_features=256, out_features=256, bias=False), Linear(in_features=256, out_features=256, bias=True), Linear(in_features=256, out_features=256, bias=False), Linear(in_features=256, out_features=256, bias=True), Dropout(p=0, inplace=False))\n",
      "(Linear(in_features=256, out_features=256, bias=False), Linear(in_features=256, out_features=256, bias=True), Linear(in_features=256, out_features=256, bias=False), Linear(in_features=256, out_features=256, bias=True), Linear(in_features=256, out_features=256, bias=False), Linear(in_features=256, out_features=256, bias=True), Dropout(p=0, inplace=False))\n",
      "(Linear(in_features=256, out_features=256, bias=False), Linear(in_features=256, out_features=256, bias=True), Linear(in_features=256, out_features=256, bias=False), Linear(in_features=256, out_features=256, bias=True), Linear(in_features=256, out_features=256, bias=False), Linear(in_features=256, out_features=256, bias=True), Dropout(p=0, inplace=False))\n",
      "(Linear(in_features=256, out_features=256, bias=False), Linear(in_features=256, out_features=256, bias=True), Linear(in_features=256, out_features=256, bias=False), Linear(in_features=256, out_features=256, bias=True), Linear(in_features=256, out_features=256, bias=False), Linear(in_features=256, out_features=256, bias=True), Dropout(p=0, inplace=False))\n",
      "(Linear(in_features=256, out_features=256, bias=False), Linear(in_features=256, out_features=256, bias=True), Linear(in_features=256, out_features=256, bias=False), Linear(in_features=256, out_features=256, bias=True), Linear(in_features=256, out_features=256, bias=False), Linear(in_features=256, out_features=256, bias=True), Dropout(p=0, inplace=False))\n",
      "(Linear(in_features=256, out_features=256, bias=False), Linear(in_features=256, out_features=256, bias=True), Linear(in_features=256, out_features=256, bias=False), Linear(in_features=256, out_features=256, bias=True), Linear(in_features=256, out_features=256, bias=False), Linear(in_features=256, out_features=256, bias=True), Dropout(p=0, inplace=False))\n",
      "(Linear(in_features=256, out_features=256, bias=False), Linear(in_features=256, out_features=256, bias=True), Linear(in_features=256, out_features=256, bias=False), Linear(in_features=256, out_features=256, bias=True), Linear(in_features=256, out_features=256, bias=False), Linear(in_features=256, out_features=256, bias=True), Dropout(p=0, inplace=False))\n",
      "(Linear(in_features=256, out_features=256, bias=False), Linear(in_features=256, out_features=256, bias=True), Linear(in_features=256, out_features=256, bias=False), Linear(in_features=256, out_features=256, bias=True), Linear(in_features=256, out_features=256, bias=False), Linear(in_features=256, out_features=256, bias=True), Dropout(p=0, inplace=False))\n",
      "(Linear(in_features=256, out_features=256, bias=False), Linear(in_features=256, out_features=256, bias=True), Linear(in_features=256, out_features=256, bias=False), Linear(in_features=256, out_features=256, bias=True), Linear(in_features=256, out_features=256, bias=False), Linear(in_features=256, out_features=256, bias=True), Dropout(p=0, inplace=False))\n",
      "(Linear(in_features=256, out_features=256, bias=False), Linear(in_features=256, out_features=256, bias=True), Linear(in_features=256, out_features=256, bias=False), Linear(in_features=256, out_features=256, bias=True), Linear(in_features=256, out_features=256, bias=False), Linear(in_features=256, out_features=256, bias=True), Dropout(p=0, inplace=False))\n",
      "(Linear(in_features=256, out_features=256, bias=False), Linear(in_features=256, out_features=256, bias=True), Linear(in_features=256, out_features=256, bias=False), Linear(in_features=256, out_features=256, bias=True), Linear(in_features=256, out_features=256, bias=False), Linear(in_features=256, out_features=256, bias=True), Dropout(p=0, inplace=False))\n",
      "(Linear(in_features=256, out_features=256, bias=False), Linear(in_features=256, out_features=256, bias=True), Linear(in_features=256, out_features=256, bias=False), Linear(in_features=256, out_features=256, bias=True), Linear(in_features=256, out_features=256, bias=False), Linear(in_features=256, out_features=256, bias=True), Dropout(p=0, inplace=False))\n",
      "(Linear(in_features=256, out_features=256, bias=False), Linear(in_features=256, out_features=256, bias=True), Linear(in_features=256, out_features=256, bias=False), Linear(in_features=256, out_features=256, bias=True), Linear(in_features=256, out_features=256, bias=False), Linear(in_features=256, out_features=256, bias=True), Dropout(p=0, inplace=False))\n",
      "(Linear(in_features=256, out_features=256, bias=False), Linear(in_features=256, out_features=256, bias=True), Linear(in_features=256, out_features=256, bias=False), Linear(in_features=256, out_features=256, bias=True), Linear(in_features=256, out_features=256, bias=False), Linear(in_features=256, out_features=256, bias=True), Dropout(p=0, inplace=False))\n",
      "(Linear(in_features=256, out_features=256, bias=False), Linear(in_features=256, out_features=256, bias=True), Linear(in_features=256, out_features=256, bias=False), Linear(in_features=256, out_features=256, bias=True), Linear(in_features=256, out_features=256, bias=False), Linear(in_features=256, out_features=256, bias=True), Dropout(p=0, inplace=False))\n",
      "(Linear(in_features=256, out_features=256, bias=False), Linear(in_features=256, out_features=256, bias=True), Linear(in_features=256, out_features=256, bias=False), Linear(in_features=256, out_features=256, bias=True), Linear(in_features=256, out_features=256, bias=False), Linear(in_features=256, out_features=256, bias=True), Dropout(p=0, inplace=False))\n",
      "(Linear(in_features=256, out_features=256, bias=False), Linear(in_features=256, out_features=256, bias=True), Linear(in_features=256, out_features=256, bias=False), Linear(in_features=256, out_features=256, bias=True), Linear(in_features=256, out_features=256, bias=False), Linear(in_features=256, out_features=256, bias=True), Dropout(p=0, inplace=False))\n",
      "(Linear(in_features=256, out_features=256, bias=False), Linear(in_features=256, out_features=256, bias=True), Linear(in_features=256, out_features=256, bias=False), Linear(in_features=256, out_features=256, bias=True), Linear(in_features=256, out_features=256, bias=False), Linear(in_features=256, out_features=256, bias=True), Dropout(p=0, inplace=False))\n",
      "(Linear(in_features=256, out_features=256, bias=False), Linear(in_features=256, out_features=256, bias=True), Linear(in_features=256, out_features=256, bias=False), Linear(in_features=256, out_features=256, bias=True), Linear(in_features=256, out_features=256, bias=False), Linear(in_features=256, out_features=256, bias=True), Dropout(p=0, inplace=False))\n",
      "(Linear(in_features=256, out_features=256, bias=False), Linear(in_features=256, out_features=256, bias=True), Linear(in_features=256, out_features=256, bias=False), Linear(in_features=256, out_features=256, bias=True), Linear(in_features=256, out_features=256, bias=False), Linear(in_features=256, out_features=256, bias=True), Dropout(p=0, inplace=False))\n",
      "(Linear(in_features=256, out_features=256, bias=False), Linear(in_features=256, out_features=256, bias=True), Linear(in_features=256, out_features=256, bias=False), Linear(in_features=256, out_features=256, bias=True), Linear(in_features=256, out_features=256, bias=False), Linear(in_features=256, out_features=256, bias=True), Dropout(p=0, inplace=False))\n",
      "(Linear(in_features=256, out_features=256, bias=False), Linear(in_features=256, out_features=256, bias=True), Linear(in_features=256, out_features=256, bias=False), Linear(in_features=256, out_features=256, bias=True), Linear(in_features=256, out_features=256, bias=False), Linear(in_features=256, out_features=256, bias=True), Dropout(p=0, inplace=False))\n",
      "(Linear(in_features=256, out_features=256, bias=False), Linear(in_features=256, out_features=256, bias=True), Linear(in_features=256, out_features=256, bias=False), Linear(in_features=256, out_features=256, bias=True), Linear(in_features=256, out_features=256, bias=False), Linear(in_features=256, out_features=256, bias=True), Dropout(p=0, inplace=False))\n",
      "(Linear(in_features=256, out_features=256, bias=False), Linear(in_features=256, out_features=256, bias=True), Linear(in_features=256, out_features=256, bias=False), Linear(in_features=256, out_features=256, bias=True), Linear(in_features=256, out_features=256, bias=False), Linear(in_features=256, out_features=256, bias=True), Dropout(p=0, inplace=False))\n",
      "(Linear(in_features=256, out_features=256, bias=False), Linear(in_features=256, out_features=256, bias=True), Linear(in_features=256, out_features=256, bias=False), Linear(in_features=256, out_features=256, bias=True), Linear(in_features=256, out_features=256, bias=False), Linear(in_features=256, out_features=256, bias=True), Dropout(p=0, inplace=False))\n",
      "(Linear(in_features=256, out_features=256, bias=False), Linear(in_features=256, out_features=256, bias=True), Linear(in_features=256, out_features=256, bias=False), Linear(in_features=256, out_features=256, bias=True), Linear(in_features=256, out_features=256, bias=False), Linear(in_features=256, out_features=256, bias=True), Dropout(p=0, inplace=False))\n",
      "(Linear(in_features=256, out_features=256, bias=False), Linear(in_features=256, out_features=256, bias=True), Linear(in_features=256, out_features=256, bias=False), Linear(in_features=256, out_features=256, bias=True), Linear(in_features=256, out_features=256, bias=False), Linear(in_features=256, out_features=256, bias=True), Dropout(p=0, inplace=False))\n",
      "(Linear(in_features=256, out_features=256, bias=False), Linear(in_features=256, out_features=256, bias=True), Linear(in_features=256, out_features=256, bias=False), Linear(in_features=256, out_features=256, bias=True), Linear(in_features=256, out_features=256, bias=False), Linear(in_features=256, out_features=256, bias=True), Dropout(p=0, inplace=False))\n",
      "(Linear(in_features=256, out_features=256, bias=False), Linear(in_features=256, out_features=256, bias=True), Linear(in_features=256, out_features=256, bias=False), Linear(in_features=256, out_features=256, bias=True), Linear(in_features=256, out_features=256, bias=False), Linear(in_features=256, out_features=256, bias=True), Dropout(p=0, inplace=False))\n",
      "(Linear(in_features=256, out_features=256, bias=False), Linear(in_features=256, out_features=256, bias=True), Linear(in_features=256, out_features=256, bias=False), Linear(in_features=256, out_features=256, bias=True), Linear(in_features=256, out_features=256, bias=False), Linear(in_features=256, out_features=256, bias=True), Dropout(p=0, inplace=False))\n",
      "(Linear(in_features=256, out_features=256, bias=False), Linear(in_features=256, out_features=256, bias=True), Linear(in_features=256, out_features=256, bias=False), Linear(in_features=256, out_features=256, bias=True), Linear(in_features=256, out_features=256, bias=False), Linear(in_features=256, out_features=256, bias=True), Dropout(p=0, inplace=False))\n",
      "(Linear(in_features=256, out_features=256, bias=False), Linear(in_features=256, out_features=256, bias=True), Linear(in_features=256, out_features=256, bias=False), Linear(in_features=256, out_features=256, bias=True), Linear(in_features=256, out_features=256, bias=False), Linear(in_features=256, out_features=256, bias=True), Dropout(p=0, inplace=False))\n",
      "(Linear(in_features=256, out_features=256, bias=False), Linear(in_features=256, out_features=256, bias=True), Linear(in_features=256, out_features=256, bias=False), Linear(in_features=256, out_features=256, bias=True), Linear(in_features=256, out_features=256, bias=False), Linear(in_features=256, out_features=256, bias=True), Dropout(p=0, inplace=False))\n",
      "(Linear(in_features=256, out_features=256, bias=False), Linear(in_features=256, out_features=256, bias=True), Linear(in_features=256, out_features=256, bias=False), Linear(in_features=256, out_features=256, bias=True), Linear(in_features=256, out_features=256, bias=False), Linear(in_features=256, out_features=256, bias=True), Dropout(p=0, inplace=False))\n",
      "(Linear(in_features=256, out_features=256, bias=False), Linear(in_features=256, out_features=256, bias=True), Linear(in_features=256, out_features=256, bias=False), Linear(in_features=256, out_features=256, bias=True), Linear(in_features=256, out_features=256, bias=False), Linear(in_features=256, out_features=256, bias=True), Dropout(p=0, inplace=False))\n",
      "(Linear(in_features=256, out_features=256, bias=False), Linear(in_features=256, out_features=256, bias=True), Linear(in_features=256, out_features=256, bias=False), Linear(in_features=256, out_features=256, bias=True), Linear(in_features=256, out_features=256, bias=False), Linear(in_features=256, out_features=256, bias=True), Dropout(p=0, inplace=False))\n",
      "(Linear(in_features=256, out_features=256, bias=False), Linear(in_features=256, out_features=256, bias=True), Linear(in_features=256, out_features=256, bias=False), Linear(in_features=256, out_features=256, bias=True), Linear(in_features=256, out_features=256, bias=False), Linear(in_features=256, out_features=256, bias=True), Dropout(p=0, inplace=False))\n",
      "y.shape=torch.Size([32, 64, 78])\n",
      "h.shape=torch.Size([32, 3, 256])\n"
     ]
    }
   ],
   "source": [
    "in_dim = vocab_len\n",
    "h_dim = 256\n",
    "n_layers = 3\n",
    "model = charnn.MultilayerGRU(in_dim, h_dim, out_dim=in_dim, n_layers=n_layers)\n",
    "model = model.to(device)\n",
    "print(model)\n",
    "\n",
    "# Test forward pass\n",
    "y, h = model(x0.to(dtype=torch.float, device=device))\n",
    "print(f'y.shape={y.shape}')\n",
    "print(f'h.shape={h.shape}')\n",
    "\n",
    "test.assertEqual(y.shape, (batch_size, seq_len, vocab_len))\n",
    "test.assertEqual(h.shape, (batch_size, n_layers, h_dim))\n",
    "test.assertEqual(len(list(model.parameters())), 9 * n_layers + 2) "
   ]
  },
  {
   "cell_type": "markdown",
   "metadata": {},
   "source": [
    "### Generating text by sampling\n",
    "<a id=part3_6></a>"
   ]
  },
  {
   "cell_type": "markdown",
   "metadata": {},
   "source": [
    "Now that we have a model, we can implement **text generation** based on it.\n",
    "The idea is simple:\n",
    "At each timestep our model receives one char $x_t$ from the input sequence and outputs scores $y_t$\n",
    "for what the next char should be.\n",
    "We'll convert these scores into a probability over each of the possible chars.\n",
    "In other words, for each input char $x_t$ we create a probability distribution for the next char\n",
    "conditioned on the current one and the state of the model (representing all previous inputs):\n",
    "$$p(x_{t+1}|x_t, \\vec{h}_t).$$\n",
    "\n",
    "Once we have such a distribution, we'll sample a char from it.\n",
    "This will be the first char of our generated sequence.\n",
    "Now we can feed this new char into the model, create another distribution, sample the next char and so on.\n",
    "Note that it's crucial to propagate the hidden state when sampling."
   ]
  },
  {
   "cell_type": "markdown",
   "metadata": {},
   "source": [
    "The important point however is how to create the distribution from the scores.\n",
    "One way, as we saw in previous ML tasks, is to use the softmax function.\n",
    "However, a drawback of softmax is that it can generate very diffuse (more uniform) distributions if the score values are very similar. When sampling, we would prefer to control the distributions and make them less uniform to increase the chance of sampling the char(s) with the highest scores compared to the others.\n",
    "\n",
    "To control the variance of the distribution, a common trick is to add a hyperparameter $T$, known as the \n",
    "*temperature* to the softmax function. The class scores are simply scaled by $T$ before softmax is applied:\n",
    "$$\n",
    "\\mathrm{softmax}_T(\\vec{y}) = \\frac{e^{\\vec{y}/T}}{\\sum_k e^{y_k/T}}\n",
    "$$\n",
    "\n",
    "A low $T$ will result in less uniform distributions and vice-versa."
   ]
  },
  {
   "cell_type": "markdown",
   "metadata": {},
   "source": [
    "**TODO**: Implement the `hot_softmax()` function in the `hw3/charnn.py` module."
   ]
  },
  {
   "cell_type": "code",
   "execution_count": 16,
   "metadata": {
    "execution": {
     "iopub.execute_input": "2021-12-26T20:27:22.561257Z",
     "iopub.status.busy": "2021-12-26T20:27:22.560726Z",
     "iopub.status.idle": "2021-12-26T20:27:22.988077Z",
     "shell.execute_reply": "2021-12-26T20:27:22.988489Z"
    }
   },
   "outputs": [
    {
     "data": {
      "text/plain": "<Figure size 1080x360 with 1 Axes>",
      "image/png": "[encoded data removed]"
     },
     "metadata": {
      "needs_background": "light"
     },
     "output_type": "display_data"
    }
   ],
   "source": [
    "scores = y[0,0,:].detach()\n",
    "_, ax = plt.subplots(figsize=(15,5))\n",
    "\n",
    "for t in reversed([0.3, 0.5, 1.0, 100]):\n",
    "    ax.plot(charnn.hot_softmax(scores, temperature=t).cpu().numpy(), label=f'T={t}')\n",
    "ax.set_xlabel('$x_{t+1}$')\n",
    "ax.set_ylabel('$p(x_{t+1}|x_t)$')\n",
    "ax.legend()\n",
    "\n",
    "uniform_proba = 1/len(char_to_idx)\n",
    "uniform_diff = torch.abs(charnn.hot_softmax(scores, temperature=100) - uniform_proba)\n",
    "test.assertTrue(torch.all(uniform_diff < 1e-4))"
   ]
  },
  {
   "cell_type": "markdown",
   "metadata": {},
   "source": [
    "**TODO**: Implement the `generate_from_model()` function in the `hw3/charnn.py` module."
   ]
  },
  {
   "cell_type": "code",
   "execution_count": 24,
   "metadata": {
    "execution": {
     "iopub.execute_input": "2021-12-26T20:27:22.992342Z",
     "iopub.status.busy": "2021-12-26T20:27:22.991802Z",
     "iopub.status.idle": "2021-12-26T20:27:23.123192Z",
     "shell.execute_reply": "2021-12-26T20:27:23.123647Z"
    }
   },
   "outputs": [
    {
     "name": "stdout",
     "output_type": "stream",
     "text": [
      "foobar1FH.T7U)4l-qu5sNLaUavdAP'E73uaUggv,Bu[IvLdlA\n",
      "foobarDRu4e1A)v:CAUWuZw't]S(NDlhk-Q,OquTA'Uky.EBuJ\n",
      "foobarX8dDSDD2:\" MOLm;1s8vtMZVqi:ev2Vc)3(Q.MasLcWr\n"
     ]
    }
   ],
   "source": [
    "for _ in range(3):\n",
    "    text = charnn.generate_from_model(model, \"foobar\", 50, (char_to_idx, idx_to_char), T=0.5)\n",
    "    print(text)\n",
    "    test.assertEqual(len(text), 50)"
   ]
  },
  {
   "cell_type": "markdown",
   "metadata": {},
   "source": [
    "### Training\n",
    "<a id=part3_7></a>"
   ]
  },
  {
   "cell_type": "markdown",
   "metadata": {},
   "source": [
    "To train this model, we'll calculate the loss at each time step by comparing the predicted char to\n",
    "the actual char from our label. We can use cross entropy since per char it's similar to a classification problem.\n",
    "We'll then sum the losses over the sequence and back-propagate the gradients though time.\n",
    "Notice that the back-propagation algorithm will \"visit\" each layer's parameter tensors multiple times,\n",
    "so we'll accumulate gradients in parameters of the blocks. Luckily `autograd` will handle this part for us."
   ]
  },
  {
   "cell_type": "markdown",
   "metadata": {},
   "source": [
    "As usual, the first step of training will be to try and **overfit** a large model (many parameters) to a tiny dataset.\n",
    "Again, this is to ensure the model and training code are implemented correctly, i.e. that the model can learn.\n",
    "\n",
    "For a generative model such as this, overfitting is slightly trickier than for classification.\n",
    "What we'll aim to do is to get our model to **memorize** a specific sequence of chars, so that when given the first\n",
    "char in the sequence it will immediately spit out the rest of the sequence verbatim.\n",
    "\n",
    "Let's create a tiny dataset to memorize."
   ]
  },
  {
   "cell_type": "code",
   "execution_count": 25,
   "metadata": {
    "execution": {
     "iopub.execute_input": "2021-12-26T20:27:23.128742Z",
     "iopub.status.busy": "2021-12-26T20:27:23.128206Z",
     "iopub.status.idle": "2021-12-26T20:27:23.160587Z",
     "shell.execute_reply": "2021-12-26T20:27:23.161033Z"
    }
   },
   "outputs": [
    {
     "name": "stdout",
     "output_type": "stream",
     "text": [
      "Text to \"memorize\":\n",
      "\n",
      "TRAM. What would you have?\n",
      "  HELENA. Something; and scarce so much; nothing, indeed.\n",
      "    I would not tell you what I would, my lord.\n",
      "    Faith, yes:\n",
      "    Strangers and foes do sunder and not kiss.\n",
      "  BERTRAM. I pray you, stay not, but in haste to horse.\n",
      "  HE\n"
     ]
    }
   ],
   "source": [
    "# Pick a tiny subset of the dataset\n",
    "subset_start, subset_end = 1001, 1005\n",
    "ds_corpus_ss = torch.utils.data.Subset(ds_corpus, range(subset_start, subset_end))\n",
    "batch_size_ss = 1\n",
    "sampler_ss = SequenceBatchSampler(ds_corpus_ss, batch_size=batch_size_ss)\n",
    "dl_corpus_ss = torch.utils.data.DataLoader(ds_corpus_ss, batch_size_ss, sampler=sampler_ss, shuffle=False)\n",
    "\n",
    "# Convert subset to text\n",
    "subset_text = ''\n",
    "for i in range(subset_end - subset_start):\n",
    "    subset_text += unembed(ds_corpus_ss[i][0])\n",
    "print(f'Text to \"memorize\":\\n\\n{subset_text}')"
   ]
  },
  {
   "cell_type": "markdown",
   "metadata": {},
   "source": [
    "Now let's implement the first part of our training code.\n",
    "\n",
    "**TODO**: Implement the `train_epoch()` and `train_batch()` methods of the `RNNTrainer` class in the `hw3/training.py` module. \n",
    "You must think about how to correctly handle the hidden state of the model between batches and epochs for this specific task (i.e. text generation)."
   ]
  },
  {
   "cell_type": "code",
   "execution_count": 40,
   "metadata": {
    "execution": {
     "iopub.execute_input": "2021-12-26T20:27:23.167218Z",
     "iopub.status.busy": "2021-12-26T20:27:23.166665Z",
     "iopub.status.idle": "2021-12-26T20:27:34.441907Z",
     "shell.execute_reply": "2021-12-26T20:27:34.442493Z"
    }
   },
   "outputs": [
    {
     "name": "stdout",
     "output_type": "stream",
     "text": [
      "\n",
      "Epoch #1: Avg. loss = 3.892, Accuracy = 17.97%\n",
      "Teo           n     n                 t      ta    o    tot           t tt   nt    tn  t ttnt t    on t o  a    tt otnn   t    tnn t   t        t   n n      t   nt       o   a t on oo ttt    t    tt      o o  nt      nt  n t  t   t    natt n   tt  ot o  t \n",
      "\n",
      "Epoch #25: Avg. loss = 0.597, Accuracy = 84.77%\n",
      "TRAM. What you have?\n",
      "  HELENA. Something; and not inde so muld you hand not kiss.\n",
      "  HELENA. I Strangers and not would not would not would not ind, not inde so muld not ind, stand not ind, stay not ind, not ind noes sorangers and not ind, not inde so sunder\n",
      "\n",
      "Epoch #50: Avg. loss = 0.016, Accuracy = 100.00%\n",
      "TRAM. What would you have?\n",
      "  HELENA. Something; and scarce so much; nothing, indeed.\n",
      "    I would not tell you what I would, my lord.\n",
      "    Faith, yes:\n",
      "    Strangers and foes do sunder and not kiss.\n",
      "  BERTRAM. I pray you, stay not, but in haste to horse.\n",
      "  HE\n"
     ]
    }
   ],
   "source": [
    "import torch.nn as nn\n",
    "import torch.optim as optim\n",
    "from hw3.training import RNNTrainer\n",
    "\n",
    "torch.manual_seed(42)\n",
    "\n",
    "lr = 0.01\n",
    "num_epochs = 500\n",
    "\n",
    "in_dim = vocab_len\n",
    "h_dim = 128\n",
    "n_layers = 2\n",
    "loss_fn = nn.CrossEntropyLoss()\n",
    "model = charnn.MultilayerGRU(in_dim, h_dim, out_dim=in_dim, n_layers=n_layers).to(device)\n",
    "optimizer = optim.Adam(model.parameters(), lr=lr)\n",
    "trainer = RNNTrainer(model, loss_fn, optimizer, device)\n",
    "\n",
    "for epoch in range(num_epochs):\n",
    "    epoch_result = trainer.train_epoch(dl_corpus_ss, verbose=False)\n",
    "    \n",
    "    # Every X epochs, we'll generate a sequence starting from the first char in the first sequence\n",
    "    # to visualize how/if/what the model is learning.\n",
    "    if epoch == 0 or (epoch+1) % 25 == 0:\n",
    "        avg_loss = np.mean(epoch_result.losses)\n",
    "        accuracy = np.mean(epoch_result.accuracy)\n",
    "        print(f'\\nEpoch #{epoch+1}: Avg. loss = {avg_loss:.3f}, Accuracy = {accuracy:.2f}%')\n",
    "        \n",
    "        generated_sequence = charnn.generate_from_model(model, subset_text[0],\n",
    "                                                        seq_len*(subset_end-subset_start),\n",
    "                                                        (char_to_idx,idx_to_char), T=0.1)\n",
    "        \n",
    "        # Stop if we've successfully memorized the small dataset.\n",
    "        print(generated_sequence)\n",
    "        if generated_sequence == subset_text:\n",
    "            break\n",
    "\n",
    "# Test successful overfitting\n",
    "test.assertGreater(epoch_result.accuracy, 99)\n",
    "test.assertEqual(generated_sequence, subset_text)"
   ]
  },
  {
   "cell_type": "markdown",
   "metadata": {},
   "source": [
    "OK, so training works - we can memorize a short sequence.\n",
    "We'll now train a much larger model on our large dataset. You'll need a GPU for this part.\n",
    "\n",
    "First, lets set up our dataset and models for training.\n",
    "We'll split our corpus into 90% train and 10% test-set.\n",
    "Also, we'll use a learning-rate scheduler to control the learning rate during training."
   ]
  },
  {
   "cell_type": "markdown",
   "metadata": {},
   "source": [
    "**TODO**: Set the hyperparameters in the `part3_rnn_hyperparams()` function of the `hw3/answers.py` module."
   ]
  },
  {
   "cell_type": "code",
   "execution_count": 41,
   "metadata": {
    "execution": {
     "iopub.execute_input": "2021-12-26T20:27:34.449959Z",
     "iopub.status.busy": "2021-12-26T20:27:34.449411Z",
     "iopub.status.idle": "2021-12-26T20:27:36.433115Z",
     "shell.execute_reply": "2021-12-26T20:27:36.433489Z"
    }
   },
   "outputs": [
    {
     "name": "stdout",
     "output_type": "stream",
     "text": [
      "hyperparams:\n",
      " {'batch_size': 500, 'seq_len': 100, 'h_dim': 1000, 'n_layers': 4, 'dropout': 0.103804325653, 'learn_rate': 0.0033, 'lr_sched_factor': 0.0, 'lr_sched_patience': 0.3}\n",
      "Train: 114 batches, 5700000 chars\n",
      "Test:   12 batches,  600000 chars\n"
     ]
    }
   ],
   "source": [
    "from hw3.answers import part3_rnn_hyperparams\n",
    "\n",
    "hp = part3_rnn_hyperparams()\n",
    "print('hyperparams:\\n', hp)\n",
    "\n",
    "### Dataset definition\n",
    "vocab_len = len(char_to_idx)\n",
    "batch_size = hp['batch_size']\n",
    "seq_len = hp['seq_len']\n",
    "train_test_ratio = 0.9\n",
    "num_samples = (len(corpus) - 1) // seq_len\n",
    "num_train = int(train_test_ratio * num_samples)\n",
    "\n",
    "samples, labels = charnn.chars_to_labelled_samples(corpus, char_to_idx, seq_len, device)\n",
    "\n",
    "ds_train = torch.utils.data.TensorDataset(samples[:num_train], labels[:num_train])\n",
    "sampler_train = SequenceBatchSampler(ds_train, batch_size)\n",
    "dl_train = torch.utils.data.DataLoader(ds_train, batch_size, shuffle=False, sampler=sampler_train, drop_last=True)\n",
    "\n",
    "ds_test = torch.utils.data.TensorDataset(samples[num_train:], labels[num_train:])\n",
    "sampler_test = SequenceBatchSampler(ds_test, batch_size)\n",
    "dl_test = torch.utils.data.DataLoader(ds_test, batch_size, shuffle=False, sampler=sampler_test, drop_last=True)\n",
    "\n",
    "print(f'Train: {len(dl_train):3d} batches, {len(dl_train)*batch_size*seq_len:7d} chars')\n",
    "print(f'Test:  {len(dl_test):3d} batches, {len(dl_test)*batch_size*seq_len:7d} chars')\n",
    "\n",
    "### Training definition\n",
    "in_dim = out_dim = vocab_len\n",
    "checkpoint_file = 'checkpoints/rnn'\n",
    "num_epochs = 50\n",
    "early_stopping = 5\n",
    "\n",
    "model = charnn.MultilayerGRU(in_dim, hp['h_dim'], out_dim, hp['n_layers'], hp['dropout'])\n",
    "loss_fn = nn.CrossEntropyLoss()\n",
    "optimizer = optim.Adam(model.parameters(), lr=hp['learn_rate'])\n",
    "scheduler = optim.lr_scheduler.ReduceLROnPlateau(\n",
    "    optimizer, mode='max', factor=hp['lr_sched_factor'], patience=hp['lr_sched_patience'], verbose=True\n",
    ")\n",
    "trainer = RNNTrainer(model, loss_fn, optimizer, device)"
   ]
  },
  {
   "cell_type": "markdown",
   "metadata": {},
   "source": [
    "The code blocks below will train the model and save checkpoints containing the training state and the best model parameters to a file. This allows you to stop training and resume it later from where you left.\n",
    "\n",
    "Note that you can use the `main.py` script provided within the assignment folder to run this notebook from the command line as if it were a python script by using the `run-nb` subcommand. This allows you to train your model using this notebook without starting jupyter. You can combine this with `srun` or `sbatch` to run the notebook with a GPU on the course servers."
   ]
  },
  {
   "cell_type": "markdown",
   "metadata": {},
   "source": [
    "**TODO**:\n",
    "- Implement the `fit()` method of the `Trainer` class. You can reuse the relevant implementation parts from HW2, but make sure to implement early stopping and checkpoints.\n",
    "- Implement the `test_epoch()` and `test_batch()` methods of the `RNNTrainer` class in the `hw3/training.py` module.\n",
    "- Run the following block to train.\n",
    "- When training is done and you're satisfied with the model's outputs, rename the checkpoint file to `checkpoints/rnn_final.pt`.\n",
    "  This will cause the block to skip training and instead load your saved model when running the homework submission script.\n",
    "  Note that your submission zip file will not include the checkpoint file. This is OK."
   ]
  },
  {
   "cell_type": "code",
   "execution_count": 42,
   "metadata": {
    "execution": {
     "iopub.execute_input": "2021-12-26T20:27:36.439306Z",
     "iopub.status.busy": "2021-12-26T20:27:36.438712Z",
     "iopub.status.idle": "2021-12-26T20:27:36.512214Z",
     "shell.execute_reply": "2021-12-26T20:27:36.512738Z"
    }
   },
   "outputs": [
    {
     "name": "stdout",
     "output_type": "stream",
     "text": [
      "ACT I.G?IfeySS:F7AeLLMo!U:PcdgYC'gYwh8JT.pgrB]7OvwdF-5lwSyZ5&C031Tu7DsM;3(e:Gk8G8uN0[G3n(X7kwf8Z;(os\n",
      "--- EPOCH 1/50 ---\n"
     ]
    },
    {
     "data": {
      "text/plain": "train_batch:   0%|          | 0/114 [00:00<?, ?it/s]",
      "application/vnd.jupyter.widget-view+json": {
       "version_major": 2,
       "version_minor": 0,
       "model_id": "1454bbf0495948dcbb270dd615ba499d"
      }
     },
     "metadata": {},
     "output_type": "display_data"
    },
    {
     "ename": "RuntimeError",
     "evalue": "CUDA out of memory. Tried to allocate 20.00 MiB (GPU 0; 4.00 GiB total capacity; 2.70 GiB already allocated; 18.84 MiB free; 2.78 GiB reserved in total by PyTorch) If reserved memory is >> allocated memory try setting max_split_size_mb to avoid fragmentation.  See documentation for Memory Management and PYTORCH_CUDA_ALLOC_CONF",
     "output_type": "error",
     "traceback": [
      "\u001B[1;31m---------------------------------------------------------------------------\u001B[0m",
      "\u001B[1;31mRuntimeError\u001B[0m                              Traceback (most recent call last)",
      "\u001B[1;32m~\\AppData\\Local\\Temp/ipykernel_10968/2536480753.py\u001B[0m in \u001B[0;36m<module>\u001B[1;34m\u001B[0m\n\u001B[0;32m     23\u001B[0m         \u001B[0mprint\u001B[0m\u001B[1;33m(\u001B[0m\u001B[0mcharnn\u001B[0m\u001B[1;33m.\u001B[0m\u001B[0mgenerate_from_model\u001B[0m\u001B[1;33m(\u001B[0m\u001B[0mmodel\u001B[0m\u001B[1;33m,\u001B[0m \u001B[1;34m\"ACT I.\"\u001B[0m\u001B[1;33m,\u001B[0m \u001B[1;36m100\u001B[0m\u001B[1;33m,\u001B[0m \u001B[1;33m(\u001B[0m\u001B[0mchar_to_idx\u001B[0m\u001B[1;33m,\u001B[0m\u001B[0midx_to_char\u001B[0m\u001B[1;33m)\u001B[0m\u001B[1;33m,\u001B[0m \u001B[0mT\u001B[0m\u001B[1;33m=\u001B[0m\u001B[1;36m0.5\u001B[0m\u001B[1;33m)\u001B[0m\u001B[1;33m)\u001B[0m\u001B[1;33m\u001B[0m\u001B[1;33m\u001B[0m\u001B[0m\n\u001B[0;32m     24\u001B[0m \u001B[1;33m\u001B[0m\u001B[0m\n\u001B[1;32m---> 25\u001B[1;33m         fit_res = trainer.fit(dl_train, dl_test, num_epochs, max_batches=None,\n\u001B[0m\u001B[0;32m     26\u001B[0m                               \u001B[0mpost_epoch_fn\u001B[0m\u001B[1;33m=\u001B[0m\u001B[0mpost_epoch_fn\u001B[0m\u001B[1;33m,\u001B[0m \u001B[0mearly_stopping\u001B[0m\u001B[1;33m=\u001B[0m\u001B[0mearly_stopping\u001B[0m\u001B[1;33m,\u001B[0m\u001B[1;33m\u001B[0m\u001B[1;33m\u001B[0m\u001B[0m\n\u001B[0;32m     27\u001B[0m                               checkpoints=checkpoint_file, print_every=1)\n",
      "\u001B[1;32m~\\PycharmProjects\\hw3_deep\\hw3\\training.py\u001B[0m in \u001B[0;36mfit\u001B[1;34m(self, dl_train, dl_test, num_epochs, checkpoints, early_stopping, print_every, post_epoch_fn, **kw)\u001B[0m\n\u001B[0;32m     83\u001B[0m             \u001B[1;31m#  - Save losses and accuracies in the lists above.\u001B[0m\u001B[1;33m\u001B[0m\u001B[1;33m\u001B[0m\u001B[1;33m\u001B[0m\u001B[0m\n\u001B[0;32m     84\u001B[0m             \u001B[1;31m# ====== YOUR CODE: ======\u001B[0m\u001B[1;33m\u001B[0m\u001B[1;33m\u001B[0m\u001B[1;33m\u001B[0m\u001B[0m\n\u001B[1;32m---> 85\u001B[1;33m             \u001B[0mtrain_result\u001B[0m\u001B[1;33m=\u001B[0m\u001B[0mself\u001B[0m\u001B[1;33m.\u001B[0m\u001B[0mtrain_epoch\u001B[0m\u001B[1;33m(\u001B[0m\u001B[0mdl_train\u001B[0m\u001B[1;33m,\u001B[0m\u001B[1;33m**\u001B[0m\u001B[0mkw\u001B[0m\u001B[1;33m)\u001B[0m\u001B[1;33m\u001B[0m\u001B[1;33m\u001B[0m\u001B[0m\n\u001B[0m\u001B[0;32m     86\u001B[0m             \u001B[0mtest_result\u001B[0m\u001B[1;33m=\u001B[0m\u001B[0mself\u001B[0m\u001B[1;33m.\u001B[0m\u001B[0mtest_epoch\u001B[0m\u001B[1;33m(\u001B[0m\u001B[0mdl_train\u001B[0m\u001B[1;33m,\u001B[0m\u001B[1;33m**\u001B[0m\u001B[0mkw\u001B[0m\u001B[1;33m)\u001B[0m\u001B[1;33m\u001B[0m\u001B[1;33m\u001B[0m\u001B[0m\n\u001B[0;32m     87\u001B[0m             \u001B[1;33m(\u001B[0m\u001B[0mtrain_losses\u001B[0m\u001B[1;33m,\u001B[0m\u001B[0mtrain_accuracy\u001B[0m\u001B[1;33m)\u001B[0m\u001B[1;33m=\u001B[0m\u001B[0mtrain_result\u001B[0m\u001B[1;33m\u001B[0m\u001B[1;33m\u001B[0m\u001B[0m\n",
      "\u001B[1;32m~\\PycharmProjects\\hw3_deep\\hw3\\training.py\u001B[0m in \u001B[0;36mtrain_epoch\u001B[1;34m(self, dl_train, **kw)\u001B[0m\n\u001B[0;32m    335\u001B[0m         \u001B[0mself\u001B[0m\u001B[1;33m.\u001B[0m\u001B[0mprev\u001B[0m \u001B[1;33m=\u001B[0m \u001B[1;32mNone\u001B[0m\u001B[1;33m\u001B[0m\u001B[1;33m\u001B[0m\u001B[0m\n\u001B[0;32m    336\u001B[0m         \u001B[1;31m# ========================\u001B[0m\u001B[1;33m\u001B[0m\u001B[1;33m\u001B[0m\u001B[1;33m\u001B[0m\u001B[0m\n\u001B[1;32m--> 337\u001B[1;33m         \u001B[1;32mreturn\u001B[0m \u001B[0msuper\u001B[0m\u001B[1;33m(\u001B[0m\u001B[1;33m)\u001B[0m\u001B[1;33m.\u001B[0m\u001B[0mtrain_epoch\u001B[0m\u001B[1;33m(\u001B[0m\u001B[0mdl_train\u001B[0m\u001B[1;33m,\u001B[0m \u001B[1;33m**\u001B[0m\u001B[0mkw\u001B[0m\u001B[1;33m)\u001B[0m\u001B[1;33m\u001B[0m\u001B[1;33m\u001B[0m\u001B[0m\n\u001B[0m\u001B[0;32m    338\u001B[0m \u001B[1;33m\u001B[0m\u001B[0m\n\u001B[0;32m    339\u001B[0m     \u001B[1;32mdef\u001B[0m \u001B[0mtest_epoch\u001B[0m\u001B[1;33m(\u001B[0m\u001B[0mself\u001B[0m\u001B[1;33m,\u001B[0m \u001B[0mdl_test\u001B[0m\u001B[1;33m:\u001B[0m \u001B[0mDataLoader\u001B[0m\u001B[1;33m,\u001B[0m \u001B[1;33m**\u001B[0m\u001B[0mkw\u001B[0m\u001B[1;33m)\u001B[0m\u001B[1;33m:\u001B[0m\u001B[1;33m\u001B[0m\u001B[1;33m\u001B[0m\u001B[0m\n",
      "\u001B[1;32m~\\PycharmProjects\\hw3_deep\\hw3\\training.py\u001B[0m in \u001B[0;36mtrain_epoch\u001B[1;34m(self, dl_train, **kw)\u001B[0m\n\u001B[0;32m    136\u001B[0m         \"\"\"\n\u001B[0;32m    137\u001B[0m         \u001B[0mself\u001B[0m\u001B[1;33m.\u001B[0m\u001B[0mmodel\u001B[0m\u001B[1;33m.\u001B[0m\u001B[0mtrain\u001B[0m\u001B[1;33m(\u001B[0m\u001B[1;32mTrue\u001B[0m\u001B[1;33m)\u001B[0m  \u001B[1;31m# set train mode\u001B[0m\u001B[1;33m\u001B[0m\u001B[1;33m\u001B[0m\u001B[0m\n\u001B[1;32m--> 138\u001B[1;33m         \u001B[1;32mreturn\u001B[0m \u001B[0mself\u001B[0m\u001B[1;33m.\u001B[0m\u001B[0m_foreach_batch\u001B[0m\u001B[1;33m(\u001B[0m\u001B[0mdl_train\u001B[0m\u001B[1;33m,\u001B[0m \u001B[0mself\u001B[0m\u001B[1;33m.\u001B[0m\u001B[0mtrain_batch\u001B[0m\u001B[1;33m,\u001B[0m \u001B[1;33m**\u001B[0m\u001B[0mkw\u001B[0m\u001B[1;33m)\u001B[0m\u001B[1;33m\u001B[0m\u001B[1;33m\u001B[0m\u001B[0m\n\u001B[0m\u001B[0;32m    139\u001B[0m \u001B[1;33m\u001B[0m\u001B[0m\n\u001B[0;32m    140\u001B[0m     \u001B[1;32mdef\u001B[0m \u001B[0mtest_epoch\u001B[0m\u001B[1;33m(\u001B[0m\u001B[0mself\u001B[0m\u001B[1;33m,\u001B[0m \u001B[0mdl_test\u001B[0m\u001B[1;33m:\u001B[0m \u001B[0mDataLoader\u001B[0m\u001B[1;33m,\u001B[0m \u001B[1;33m**\u001B[0m\u001B[0mkw\u001B[0m\u001B[1;33m)\u001B[0m \u001B[1;33m->\u001B[0m \u001B[0mEpochResult\u001B[0m\u001B[1;33m:\u001B[0m\u001B[1;33m\u001B[0m\u001B[1;33m\u001B[0m\u001B[0m\n",
      "\u001B[1;32m~\\PycharmProjects\\hw3_deep\\hw3\\training.py\u001B[0m in \u001B[0;36m_foreach_batch\u001B[1;34m(dl, forward_fn, verbose, max_batches)\u001B[0m\n\u001B[0;32m    212\u001B[0m             \u001B[1;32mfor\u001B[0m \u001B[0mbatch_idx\u001B[0m \u001B[1;32min\u001B[0m \u001B[0mrange\u001B[0m\u001B[1;33m(\u001B[0m\u001B[0mnum_batches\u001B[0m\u001B[1;33m)\u001B[0m\u001B[1;33m:\u001B[0m\u001B[1;33m\u001B[0m\u001B[1;33m\u001B[0m\u001B[0m\n\u001B[0;32m    213\u001B[0m                 \u001B[0mdata\u001B[0m \u001B[1;33m=\u001B[0m \u001B[0mnext\u001B[0m\u001B[1;33m(\u001B[0m\u001B[0mdl_iter\u001B[0m\u001B[1;33m)\u001B[0m\u001B[1;33m\u001B[0m\u001B[1;33m\u001B[0m\u001B[0m\n\u001B[1;32m--> 214\u001B[1;33m                 \u001B[0mbatch_res\u001B[0m \u001B[1;33m=\u001B[0m \u001B[0mforward_fn\u001B[0m\u001B[1;33m(\u001B[0m\u001B[0mdata\u001B[0m\u001B[1;33m)\u001B[0m\u001B[1;33m\u001B[0m\u001B[1;33m\u001B[0m\u001B[0m\n\u001B[0m\u001B[0;32m    215\u001B[0m \u001B[1;33m\u001B[0m\u001B[0m\n\u001B[0;32m    216\u001B[0m                 \u001B[0mpbar\u001B[0m\u001B[1;33m.\u001B[0m\u001B[0mset_description\u001B[0m\u001B[1;33m(\u001B[0m\u001B[1;34mf\"{pbar_name} ({batch_res.loss:.3f})\"\u001B[0m\u001B[1;33m)\u001B[0m\u001B[1;33m\u001B[0m\u001B[1;33m\u001B[0m\u001B[0m\n",
      "\u001B[1;32m~\\PycharmProjects\\hw3_deep\\hw3\\training.py\u001B[0m in \u001B[0;36mtrain_batch\u001B[1;34m(self, batch)\u001B[0m\n\u001B[0;32m    359\u001B[0m         \u001B[0mself\u001B[0m\u001B[1;33m.\u001B[0m\u001B[0moptimizer\u001B[0m\u001B[1;33m.\u001B[0m\u001B[0mzero_grad\u001B[0m\u001B[1;33m(\u001B[0m\u001B[1;33m)\u001B[0m\u001B[1;33m\u001B[0m\u001B[1;33m\u001B[0m\u001B[0m\n\u001B[0;32m    360\u001B[0m         \u001B[1;32mif\u001B[0m \u001B[0mself\u001B[0m\u001B[1;33m.\u001B[0m\u001B[0mprev\u001B[0m\u001B[1;33m==\u001B[0m\u001B[1;32mNone\u001B[0m\u001B[1;33m:\u001B[0m\u001B[1;33m\u001B[0m\u001B[1;33m\u001B[0m\u001B[0m\n\u001B[1;32m--> 361\u001B[1;33m             \u001B[0mscores\u001B[0m\u001B[1;33m,\u001B[0m \u001B[0mself\u001B[0m\u001B[1;33m.\u001B[0m\u001B[0mprev\u001B[0m \u001B[1;33m=\u001B[0m \u001B[0mself\u001B[0m\u001B[1;33m.\u001B[0m\u001B[0mmodel\u001B[0m\u001B[1;33m(\u001B[0m\u001B[0mx\u001B[0m\u001B[1;33m)\u001B[0m\u001B[1;33m\u001B[0m\u001B[1;33m\u001B[0m\u001B[0m\n\u001B[0m\u001B[0;32m    362\u001B[0m         \u001B[1;32melse\u001B[0m\u001B[1;33m:\u001B[0m\u001B[1;33m\u001B[0m\u001B[1;33m\u001B[0m\u001B[0m\n\u001B[0;32m    363\u001B[0m             \u001B[0mscores\u001B[0m\u001B[1;33m,\u001B[0m\u001B[0mself\u001B[0m\u001B[1;33m.\u001B[0m\u001B[0mprev\u001B[0m\u001B[1;33m=\u001B[0m\u001B[0mself\u001B[0m\u001B[1;33m.\u001B[0m\u001B[0mmodel\u001B[0m\u001B[1;33m(\u001B[0m\u001B[0mx\u001B[0m\u001B[1;33m,\u001B[0m\u001B[0mself\u001B[0m\u001B[1;33m.\u001B[0m\u001B[0mprev\u001B[0m\u001B[1;33m)\u001B[0m\u001B[1;33m\u001B[0m\u001B[1;33m\u001B[0m\u001B[0m\n",
      "\u001B[1;32mD:\\Conda\\envs\\cs236781-hw3\\lib\\site-packages\\torch\\nn\\modules\\module.py\u001B[0m in \u001B[0;36m_call_impl\u001B[1;34m(self, *input, **kwargs)\u001B[0m\n\u001B[0;32m   1100\u001B[0m         if not (self._backward_hooks or self._forward_hooks or self._forward_pre_hooks or _global_backward_hooks\n\u001B[0;32m   1101\u001B[0m                 or _global_forward_hooks or _global_forward_pre_hooks):\n\u001B[1;32m-> 1102\u001B[1;33m             \u001B[1;32mreturn\u001B[0m \u001B[0mforward_call\u001B[0m\u001B[1;33m(\u001B[0m\u001B[1;33m*\u001B[0m\u001B[0minput\u001B[0m\u001B[1;33m,\u001B[0m \u001B[1;33m**\u001B[0m\u001B[0mkwargs\u001B[0m\u001B[1;33m)\u001B[0m\u001B[1;33m\u001B[0m\u001B[1;33m\u001B[0m\u001B[0m\n\u001B[0m\u001B[0;32m   1103\u001B[0m         \u001B[1;31m# Do not call functions when jit is used\u001B[0m\u001B[1;33m\u001B[0m\u001B[1;33m\u001B[0m\u001B[1;33m\u001B[0m\u001B[0m\n\u001B[0;32m   1104\u001B[0m         \u001B[0mfull_backward_hooks\u001B[0m\u001B[1;33m,\u001B[0m \u001B[0mnon_full_backward_hooks\u001B[0m \u001B[1;33m=\u001B[0m \u001B[1;33m[\u001B[0m\u001B[1;33m]\u001B[0m\u001B[1;33m,\u001B[0m \u001B[1;33m[\u001B[0m\u001B[1;33m]\u001B[0m\u001B[1;33m\u001B[0m\u001B[1;33m\u001B[0m\u001B[0m\n",
      "\u001B[1;32m~\\PycharmProjects\\hw3_deep\\hw3\\charnn.py\u001B[0m in \u001B[0;36mforward\u001B[1;34m(self, input, hidden_state)\u001B[0m\n\u001B[0;32m    376\u001B[0m                     \u001B[0mr\u001B[0m\u001B[1;33m=\u001B[0m\u001B[0mtorch\u001B[0m\u001B[1;33m.\u001B[0m\u001B[0msigmoid\u001B[0m\u001B[1;33m(\u001B[0m\u001B[0ml\u001B[0m\u001B[1;33m[\u001B[0m\u001B[1;36m1\u001B[0m\u001B[1;33m]\u001B[0m\u001B[1;33m(\u001B[0m\u001B[0mlayer_states\u001B[0m\u001B[1;33m[\u001B[0m\u001B[0mt\u001B[0m\u001B[1;33m-\u001B[0m\u001B[1;36m1\u001B[0m\u001B[1;33m]\u001B[0m\u001B[1;33m)\u001B[0m\u001B[1;33m+\u001B[0m\u001B[0ml\u001B[0m\u001B[1;33m[\u001B[0m\u001B[1;36m4\u001B[0m\u001B[1;33m]\u001B[0m\u001B[1;33m(\u001B[0m\u001B[0mlayer_states\u001B[0m\u001B[1;33m[\u001B[0m\u001B[0mt\u001B[0m\u001B[1;33m]\u001B[0m\u001B[1;33m)\u001B[0m\u001B[1;33m)\u001B[0m\u001B[1;33m\u001B[0m\u001B[1;33m\u001B[0m\u001B[0m\n\u001B[0;32m    377\u001B[0m                     \u001B[0mg\u001B[0m\u001B[1;33m=\u001B[0m\u001B[0mtorch\u001B[0m\u001B[1;33m.\u001B[0m\u001B[0mtanh\u001B[0m\u001B[1;33m(\u001B[0m\u001B[0ml\u001B[0m\u001B[1;33m[\u001B[0m\u001B[1;36m2\u001B[0m\u001B[1;33m]\u001B[0m\u001B[1;33m(\u001B[0m\u001B[0mlayer_states\u001B[0m\u001B[1;33m[\u001B[0m\u001B[0mt\u001B[0m\u001B[1;33m-\u001B[0m\u001B[1;36m1\u001B[0m\u001B[1;33m]\u001B[0m\u001B[1;33m)\u001B[0m\u001B[1;33m+\u001B[0m\u001B[0ml\u001B[0m\u001B[1;33m[\u001B[0m\u001B[1;36m5\u001B[0m\u001B[1;33m]\u001B[0m\u001B[1;33m(\u001B[0m\u001B[0mr\u001B[0m\u001B[1;33m*\u001B[0m\u001B[0mlayer_states\u001B[0m\u001B[1;33m[\u001B[0m\u001B[0mt\u001B[0m\u001B[1;33m]\u001B[0m\u001B[1;33m)\u001B[0m\u001B[1;33m)\u001B[0m\u001B[1;33m\u001B[0m\u001B[1;33m\u001B[0m\u001B[0m\n\u001B[1;32m--> 378\u001B[1;33m                 \u001B[0mlayer_states\u001B[0m\u001B[1;33m[\u001B[0m\u001B[0mt\u001B[0m\u001B[1;33m]\u001B[0m\u001B[1;33m=\u001B[0m\u001B[0mlayer_states\u001B[0m\u001B[1;33m[\u001B[0m\u001B[0mt\u001B[0m\u001B[1;33m]\u001B[0m\u001B[1;33m*\u001B[0m\u001B[0mz\u001B[0m\u001B[1;33m+\u001B[0m\u001B[1;33m(\u001B[0m\u001B[1;36m1\u001B[0m\u001B[1;33m-\u001B[0m\u001B[0mz\u001B[0m\u001B[1;33m)\u001B[0m\u001B[1;33m*\u001B[0m\u001B[0mg\u001B[0m\u001B[1;33m\u001B[0m\u001B[1;33m\u001B[0m\u001B[0m\n\u001B[0m\u001B[0;32m    379\u001B[0m                 \u001B[1;32mif\u001B[0m \u001B[1;32mnot\u001B[0m \u001B[0mfirst\u001B[0m\u001B[1;33m:\u001B[0m\u001B[1;33m\u001B[0m\u001B[1;33m\u001B[0m\u001B[0m\n\u001B[0;32m    380\u001B[0m                     \u001B[0mx\u001B[0m\u001B[1;33m=\u001B[0m\u001B[0ml\u001B[0m\u001B[1;33m[\u001B[0m\u001B[1;36m6\u001B[0m\u001B[1;33m]\u001B[0m\u001B[1;33m\u001B[0m\u001B[1;33m\u001B[0m\u001B[0m\n",
      "\u001B[1;31mRuntimeError\u001B[0m: CUDA out of memory. Tried to allocate 20.00 MiB (GPU 0; 4.00 GiB total capacity; 2.70 GiB already allocated; 18.84 MiB free; 2.78 GiB reserved in total by PyTorch) If reserved memory is >> allocated memory try setting max_split_size_mb to avoid fragmentation.  See documentation for Memory Management and PYTORCH_CUDA_ALLOC_CONF"
     ]
    }
   ],
   "source": [
    "from cs236781.plot import plot_fit\n",
    "\n",
    "def post_epoch_fn(epoch, train_res, test_res, verbose):\n",
    "    # Update learning rate\n",
    "    scheduler.step(test_res.accuracy)\n",
    "    # Sample from model to show progress\n",
    "    if verbose:\n",
    "        start_seq = \"ACT I.\"\n",
    "        generated_sequence = charnn.generate_from_model(\n",
    "            model, start_seq, 100, (char_to_idx,idx_to_char), T=0.5\n",
    "        )\n",
    "        print(generated_sequence)\n",
    "\n",
    "# Train, unless final checkpoint is found\n",
    "checkpoint_file_final = f'{checkpoint_file}_final.pt'\n",
    "if os.path.isfile(checkpoint_file_final):\n",
    "    print(f'*** Loading final checkpoint file {checkpoint_file_final} instead of training')\n",
    "    saved_state = torch.load(checkpoint_file_final, map_location=device)\n",
    "    model.load_state_dict(saved_state['model_state'])\n",
    "else:\n",
    "    try:\n",
    "        # Print pre-training sampling\n",
    "        print(charnn.generate_from_model(model, \"ACT I.\", 100, (char_to_idx,idx_to_char), T=0.5))\n",
    "\n",
    "        fit_res = trainer.fit(dl_train, dl_test, num_epochs, max_batches=None,\n",
    "                              post_epoch_fn=post_epoch_fn, early_stopping=early_stopping,\n",
    "                              checkpoints=checkpoint_file, print_every=1)\n",
    "        \n",
    "        fig, axes = plot_fit(fit_res)\n",
    "    except KeyboardInterrupt as e:\n",
    "        print('\\n *** Training interrupted by user')"
   ]
  },
  {
   "cell_type": "markdown",
   "metadata": {},
   "source": [
    "### Generating a work of art\n",
    "<a id=part3_8></a>"
   ]
  },
  {
   "cell_type": "markdown",
   "metadata": {},
   "source": [
    "Armed with our fully trained model, let's generate the next Hamlet! You should experiment with modifying the sampling temperature and see what happens.\n",
    "\n",
    "The text you generate should “look” like a Shakespeare play:\n",
    "old-style English words and sentence structure, directions for the actors\n",
    "(like “Exit/Enter”), sections (Act I/Scene III) etc.\n",
    "There will be no coherent plot of course, but it should at least seem like\n",
    "a Shakespearean play when not looking too closely.\n",
    "If this is not what you see, go back, debug and/or and re-train.\n",
    "\n",
    "**TODO**: Specify the generation parameters in the `part3_generation_params()` function within the `hw3/answers.py` module."
   ]
  },
  {
   "cell_type": "code",
   "execution_count": null,
   "metadata": {
    "execution": {
     "iopub.execute_input": "2021-12-26T20:27:36.516430Z",
     "iopub.status.busy": "2021-12-26T20:27:36.515878Z",
     "iopub.status.idle": "2021-12-26T20:27:54.423789Z",
     "shell.execute_reply": "2021-12-26T20:27:54.424295Z"
    }
   },
   "outputs": [],
   "source": [
    "from hw3.answers import part3_generation_params\n",
    "\n",
    "start_seq, temperature = part3_generation_params()\n",
    "\n",
    "generated_sequence = charnn.generate_from_model(\n",
    "    model, start_seq, 10000, (char_to_idx,idx_to_char), T=temperature\n",
    ")\n",
    "\n",
    "print(generated_sequence)"
   ]
  },
  {
   "cell_type": "markdown",
   "metadata": {},
   "source": [
    "## Questions\n",
    "<a id=part3_9></a>"
   ]
  },
  {
   "cell_type": "markdown",
   "metadata": {},
   "source": [
    "**TODO** Answer the following questions. Write your answers in the appropriate variables in the module `hw3/answers.py`."
   ]
  },
  {
   "cell_type": "code",
   "execution_count": null,
   "metadata": {
    "execution": {
     "iopub.execute_input": "2021-12-26T20:27:54.428525Z",
     "iopub.status.busy": "2021-12-26T20:27:54.427848Z",
     "iopub.status.idle": "2021-12-26T20:27:54.473192Z",
     "shell.execute_reply": "2021-12-26T20:27:54.473758Z"
    }
   },
   "outputs": [],
   "source": [
    "from cs236781.answers import display_answer\n",
    "import hw3.answers"
   ]
  },
  {
   "cell_type": "markdown",
   "metadata": {},
   "source": [
    "### Question 1\n",
    "Why do we split the corpus into sequences instead of training on the whole text?"
   ]
  },
  {
   "cell_type": "code",
   "execution_count": null,
   "metadata": {
    "execution": {
     "iopub.execute_input": "2021-12-26T20:27:54.477943Z",
     "iopub.status.busy": "2021-12-26T20:27:54.477296Z",
     "iopub.status.idle": "2021-12-26T20:27:54.510993Z",
     "shell.execute_reply": "2021-12-26T20:27:54.511441Z"
    }
   },
   "outputs": [],
   "source": [
    "display_answer(hw3.answers.part3_q1)"
   ]
  },
  {
   "cell_type": "markdown",
   "metadata": {},
   "source": [
    "### Question 2\n",
    "How is it possible that the generated text clearly shows memory longer than the sequence length?"
   ]
  },
  {
   "cell_type": "code",
   "execution_count": null,
   "metadata": {
    "execution": {
     "iopub.execute_input": "2021-12-26T20:27:54.514915Z",
     "iopub.status.busy": "2021-12-26T20:27:54.514368Z",
     "iopub.status.idle": "2021-12-26T20:27:54.547546Z",
     "shell.execute_reply": "2021-12-26T20:27:54.547944Z"
    }
   },
   "outputs": [],
   "source": [
    "display_answer(hw3.answers.part3_q2)"
   ]
  },
  {
   "cell_type": "markdown",
   "metadata": {},
   "source": [
    "### Question 3\n",
    "Why are we not shuffling the order of batches when training?"
   ]
  },
  {
   "cell_type": "code",
   "execution_count": null,
   "metadata": {
    "execution": {
     "iopub.execute_input": "2021-12-26T20:27:54.551267Z",
     "iopub.status.busy": "2021-12-26T20:27:54.550730Z",
     "iopub.status.idle": "2021-12-26T20:27:54.586332Z",
     "shell.execute_reply": "2021-12-26T20:27:54.586750Z"
    }
   },
   "outputs": [],
   "source": [
    "display_answer(hw3.answers.part3_q3)"
   ]
  },
  {
   "cell_type": "markdown",
   "metadata": {},
   "source": [
    "### Question 4\n",
    "1. Why do we lower the temperature for sampling (compared to the default of $1.0$)?\n",
    "2. What happens when the temperature is very high and why?\n",
    "3. What happens when the temperature is very low and why?"
   ]
  },
  {
   "cell_type": "code",
   "execution_count": null,
   "metadata": {
    "execution": {
     "iopub.execute_input": "2021-12-26T20:27:54.590433Z",
     "iopub.status.busy": "2021-12-26T20:27:54.589820Z",
     "iopub.status.idle": "2021-12-26T20:27:54.626967Z",
     "shell.execute_reply": "2021-12-26T20:27:54.627464Z"
    },
    "tags": []
   },
   "outputs": [],
   "source": [
    "display_answer(hw3.answers.part3_q4)"
   ]
  }
 ],
 "metadata": {
  "kernelspec": {
   "display_name": "Python 3 (ipykernel)",
   "language": "python",
   "name": "python3"
  },
  "language_info": {
   "codemirror_mode": {
    "name": "ipython",
    "version": 3
   },
   "file_extension": ".py",
   "mimetype": "text/x-python",
   "name": "python",
   "nbconvert_exporter": "python",
   "pygments_lexer": "ipython3",
   "version": "3.8.12"
  }
 },
 "nbformat": 4,
 "nbformat_minor": 4
}